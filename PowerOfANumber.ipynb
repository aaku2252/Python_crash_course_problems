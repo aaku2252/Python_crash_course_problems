{
 "cells": [
  {
   "cell_type": "code",
   "execution_count": 7,
   "metadata": {},
   "outputs": [
    {
     "name": "stdout",
     "output_type": "stream",
     "text": [
      "81\n"
     ]
    }
   ],
   "source": [
    "# Write a program to find x to the power n (i.e. x^n). Take x and n from the user. You need to print the answer.\n",
    "# Note : For this question, you can assume that 0 raised to the power of 0 is 1\n",
    "\n",
    "\n",
    "# Input format :\n",
    "# Two integers x and n (separated by space)\n",
    "# Output Format :\n",
    "# x^n (i.e. x raise to the power n)\n",
    "\n",
    "\n",
    "\n",
    "\n",
    "x,n = [int(p) for p in input().split()]\n",
    "def powerOfNum(x,n):\n",
    "    if n ==0:\n",
    "        return 1\n",
    "    output = x*powerOfNum(x,n-1)\n",
    "    return(output)\n",
    "print(powerOfNum(x,n))\n"
   ]
  }
 ],
 "metadata": {
  "kernelspec": {
   "display_name": "Python 3",
   "language": "python",
   "name": "python3"
  },
  "language_info": {
   "codemirror_mode": {
    "name": "ipython",
    "version": 3
   },
   "file_extension": ".py",
   "mimetype": "text/x-python",
   "name": "python",
   "nbconvert_exporter": "python",
   "pygments_lexer": "ipython3",
   "version": "3.10.4 (tags/v3.10.4:9d38120, Mar 23 2022, 23:13:41) [MSC v.1929 64 bit (AMD64)]"
  },
  "orig_nbformat": 4,
  "vscode": {
   "interpreter": {
    "hash": "369f2c481f4da34e4445cda3fffd2e751bd1c4d706f27375911949ba6bb62e1c"
   }
  }
 },
 "nbformat": 4,
 "nbformat_minor": 2
}
