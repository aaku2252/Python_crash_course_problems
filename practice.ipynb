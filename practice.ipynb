{
 "cells": [
  {
   "cell_type": "code",
   "execution_count": 55,
   "metadata": {},
   "outputs": [
    {
     "name": "stdout",
     "output_type": "stream",
     "text": [
      "C\n",
      "BC\n",
      "ABC\n"
     ]
    }
   ],
   "source": [
    "n = int(input())\n",
    "start_char = ord('A')+n-1\n",
    "i=1\n",
    "while i<=n:\n",
    "    j =1\n",
    "    start = start_char\n",
    "    while j<=i:\n",
    "        print(chr(start),end = '') \n",
    "        start +=1 \n",
    "        j+=1\n",
    "    print()\n",
    "    start_char -=1\n",
    "    i+=1"
   ]
  },
  {
   "cell_type": "code",
   "execution_count": 19,
   "metadata": {},
   "outputs": [
    {
     "name": "stdout",
     "output_type": "stream",
     "text": [
      "8 15\n"
     ]
    }
   ],
   "source": [
    "# Write a program to generate the reverse of a given number N. Print the corresponding reverse number.\n",
    "# Note : If a number has trailing zeros, then its reverse will not include them. For e.g., reverse of 10400 will be 401 instead of 00401.\n",
    "num = int(input())\n",
    "digit = 0\n",
    "odd = 0\n",
    "even = 0\n",
    "\n",
    "while num != 0:\n",
    "    digit = num % 10\n",
    "    if digit%2==0:\n",
    "        even+=digit\n",
    "    elif digit%2 !=0:\n",
    "        odd+=digit\n",
    "    \n",
    "    num = num//10\n",
    "\n",
    "    \n",
    "print(even,odd)\n",
    "    \n"
   ]
  },
  {
   "cell_type": "code",
   "execution_count": 1,
   "metadata": {},
   "outputs": [
    {
     "name": "stdout",
     "output_type": "stream",
     "text": [
      "8\n"
     ]
    }
   ],
   "source": [
    "# fibonacci number\n",
    "num = int(input())\n",
    "first = 0\n",
    "sec = 1\n",
    "start = 1\n",
    "fib = 0\n",
    "\n",
    "while start<num:\n",
    "    if num == 1:\n",
    "        fib = first\n",
    "    elif num ==2:\n",
    "        fib = sec\n",
    "    elif num>2:\n",
    "        sec = first+sec\n",
    "        first = sec\n",
    "        fib = sec\n",
    "    start += 1\n",
    "\n",
    "print(fib)\n",
    "\n"
   ]
  },
  {
   "cell_type": "code",
   "execution_count": 2,
   "metadata": {},
   "outputs": [
    {
     "name": "stdout",
     "output_type": "stream",
     "text": [
      "8\n"
     ]
    }
   ],
   "source": [
    "num   = int(input())\n",
    "first = 1\n",
    "sec   = 1\n",
    "start = 3\n",
    "\n",
    "if num ==1:\n",
    "    print(first)\n",
    "elif num ==2:\n",
    "    print(sec)\n",
    "elif num>2:\n",
    "    while start<=num:\n",
    "        fib = first+sec\n",
    "        first = sec\n",
    "        sec= fib\n",
    "        start +=1\n",
    "    print(fib)"
   ]
  },
  {
   "cell_type": "code",
   "execution_count": 15,
   "metadata": {},
   "outputs": [
    {
     "name": "stdout",
     "output_type": "stream",
     "text": [
      "    1\n",
      "   232\n",
      "  34543\n",
      " 4567654\n",
      "567898765\n"
     ]
    }
   ],
   "source": [
    "n = int(input())\n",
    "i = 1\n",
    "while (i <= n):\n",
    "    j = 1\n",
    "    while j <= (n - i):\n",
    "        print(' ', end = '')\n",
    "        j+=1\n",
    "    \n",
    "    s=1\n",
    "    num = i\n",
    "    while s <= (2*i)-1:\n",
    "        if s<=i:\n",
    "            print(num, end = '')\n",
    "            num+=1\n",
    "        else:\n",
    "            print(num-2, end = '')\n",
    "            num-=1\n",
    "        s+=1\n",
    "    print()\n",
    "    i += 1"
   ]
  },
  {
   "cell_type": "code",
   "execution_count": 19,
   "metadata": {},
   "outputs": [
    {
     "name": "stdout",
     "output_type": "stream",
     "text": [
      "1                1\n",
      "12              21\n",
      "123            321\n",
      "1234          4321\n",
      "12345        54321\n",
      "123456      654321\n",
      "1234567    7654321\n",
      "12345678  87654321\n",
      "123456789987654321\n"
     ]
    }
   ],
   "source": [
    "n = int(input())\n",
    "i=1\n",
    "while i<=n:\n",
    "    j=1\n",
    "    while j<=2*n:\n",
    "        if j<=i:\n",
    "            print(j,end='')\n",
    "            j+=1\n",
    "        elif i<j<=2*n-i:\n",
    "            print(' ',end = '')\n",
    "            j+=1\n",
    "        else:\n",
    "            print(2*n-j+1,end = '')\n",
    "            j+=1\n",
    "    print()\n",
    "    i+=1\n",
    "\n"
   ]
  },
  {
   "cell_type": "code",
   "execution_count": 22,
   "metadata": {},
   "outputs": [
    {
     "name": "stdout",
     "output_type": "stream",
     "text": [
      "*00*00*\n",
      "0*0*0*0\n",
      "00***00\n"
     ]
    }
   ],
   "source": [
    "n = int(input())\n",
    "i=1\n",
    "while i<=n:\n",
    "    j=1\n",
    "    while j<=2*n+1:\n",
    "        if j==i or j==n+1 or j== (2*n)+2-i:\n",
    "            print('*',end='')\n",
    "            j+=1\n",
    "        else:\n",
    "            print(0,end = '')\n",
    "            j+=1\n",
    "    print()\n",
    "    i+=1"
   ]
  },
  {
   "cell_type": "code",
   "execution_count": 32,
   "metadata": {},
   "outputs": [
    {
     "name": "stdout",
     "output_type": "stream",
     "text": [
      "*           \n",
      " * *         \n",
      "  * * *       \n",
      "   * * * *     \n",
      "    * * * * *   \n",
      "     * * * * * * \n",
      "    * * * * *   \n",
      "   * * * *     \n",
      "  * * *       \n",
      " * *         \n",
      "*           \n"
     ]
    }
   ],
   "source": [
    "n = int(input())\n",
    "i = 1\n",
    "\n",
    "while i <= n:\n",
    "    j=1\n",
    "    while j<=n:\n",
    "        if i<=(n+1)//2:\n",
    "            if i<=j<=2*i-1:\n",
    "                print('* ',end = '')\n",
    "                j+=1\n",
    "            else:\n",
    "                print(' ',end = '')\n",
    "                j+=1\n",
    "        else:\n",
    "            if (n-i+1)<=j<2*(n-i+1):\n",
    "                print('* ',end = '')\n",
    "                j+=1\n",
    "            else:\n",
    "                print(' ',end = '')\n",
    "                j+=1\n",
    "    print()\n",
    "    i = i + 1"
   ]
  }
 ],
 "metadata": {
  "kernelspec": {
   "display_name": "Python 3.10.4 64-bit",
   "language": "python",
   "name": "python3"
  },
  "language_info": {
   "codemirror_mode": {
    "name": "ipython",
    "version": 3
   },
   "file_extension": ".py",
   "mimetype": "text/x-python",
   "name": "python",
   "nbconvert_exporter": "python",
   "pygments_lexer": "ipython3",
   "version": "3.10.4 (tags/v3.10.4:9d38120, Mar 23 2022, 23:13:41) [MSC v.1929 64 bit (AMD64)]"
  },
  "orig_nbformat": 4,
  "vscode": {
   "interpreter": {
    "hash": "369f2c481f4da34e4445cda3fffd2e751bd1c4d706f27375911949ba6bb62e1c"
   }
  }
 },
 "nbformat": 4,
 "nbformat_minor": 2
}
