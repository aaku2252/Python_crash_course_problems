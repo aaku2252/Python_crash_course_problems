{
 "cells": [
  {
   "cell_type": "code",
   "execution_count": 55,
   "metadata": {},
   "outputs": [
    {
     "name": "stdout",
     "output_type": "stream",
     "text": [
      "C\n",
      "BC\n",
      "ABC\n"
     ]
    }
   ],
   "source": [
    "n = int(input())\n",
    "start_char = ord('A')+n-1\n",
    "i=1\n",
    "while i<=n:\n",
    "    j =1\n",
    "    start = start_char\n",
    "    while j<=i:\n",
    "        print(chr(start),end = '') \n",
    "        start +=1 \n",
    "        j+=1\n",
    "    print()\n",
    "    start_char -=1\n",
    "    i+=1"
   ]
  },
  {
   "cell_type": "code",
   "execution_count": 19,
   "metadata": {},
   "outputs": [
    {
     "name": "stdout",
     "output_type": "stream",
     "text": [
      "8 15\n"
     ]
    }
   ],
   "source": [
    "# Write a program to generate the reverse of a given number N. Print the corresponding reverse number.\n",
    "# Note : If a number has trailing zeros, then its reverse will not include them. For e.g., reverse of 10400 will be 401 instead of 00401.\n",
    "num = int(input())\n",
    "digit = 0\n",
    "odd = 0\n",
    "even = 0\n",
    "\n",
    "while num != 0:\n",
    "    digit = num % 10\n",
    "    if digit%2==0:\n",
    "        even+=digit\n",
    "    elif digit%2 !=0:\n",
    "        odd+=digit\n",
    "    \n",
    "    num = num//10\n",
    "\n",
    "    \n",
    "print(even,odd)\n",
    "    \n"
   ]
  },
  {
   "cell_type": "code",
   "execution_count": 1,
   "metadata": {},
   "outputs": [
    {
     "name": "stdout",
     "output_type": "stream",
     "text": [
      "8\n"
     ]
    }
   ],
   "source": [
    "# fibonacci number\n",
    "num = int(input())\n",
    "first = 0\n",
    "sec = 1\n",
    "start = 1\n",
    "fib = 0\n",
    "\n",
    "while start<num:\n",
    "    if num == 1:\n",
    "        fib = first\n",
    "    elif num ==2:\n",
    "        fib = sec\n",
    "    elif num>2:\n",
    "        sec = first+sec\n",
    "        first = sec\n",
    "        fib = sec\n",
    "    start += 1\n",
    "\n",
    "print(fib)\n",
    "\n"
   ]
  },
  {
   "cell_type": "code",
   "execution_count": 2,
   "metadata": {},
   "outputs": [
    {
     "name": "stdout",
     "output_type": "stream",
     "text": [
      "8\n"
     ]
    }
   ],
   "source": [
    "num   = int(input())\n",
    "first = 1\n",
    "sec   = 1\n",
    "start = 3\n",
    "\n",
    "if num ==1:\n",
    "    print(first)\n",
    "elif num ==2:\n",
    "    print(sec)\n",
    "elif num>2:\n",
    "    while start<=num:\n",
    "        fib = first+sec\n",
    "        first = sec\n",
    "        sec= fib\n",
    "        start +=1\n",
    "    print(fib)"
   ]
  },
  {
   "cell_type": "code",
   "execution_count": 9,
   "metadata": {},
   "outputs": [
    {
     "name": "stdout",
     "output_type": "stream",
     "text": [
      "2\n",
      "3\n",
      "5\n",
      "7\n"
     ]
    }
   ],
   "source": [
    "# prime numbers\n",
    "n = int(input())\n",
    "k=2\n",
    "while k<=n:\n",
    "    j=2\n",
    "    while j<k:\n",
    "        if k%j==0:\n",
    "            break\n",
    "        j+=1\n",
    "    else:\n",
    "        print(k)\n",
    "    k+=1\n",
    "#* else code printed only when the loop is not completed due to break statement"
   ]
  },
  {
   "cell_type": "code",
   "execution_count": 15,
   "metadata": {},
   "outputs": [
    {
     "name": "stdout",
     "output_type": "stream",
     "text": [
      "    1\n",
      "   232\n",
      "  34543\n",
      " 4567654\n",
      "567898765\n"
     ]
    }
   ],
   "source": [
    "n = int(input())\n",
    "i = 1\n",
    "while (i <= n):\n",
    "    j = 1\n",
    "    while j <= (n - i):\n",
    "        print(' ', end = '')\n",
    "        j+=1\n",
    "    \n",
    "    s=1\n",
    "    num = i\n",
    "    while s <= (2*i)-1:\n",
    "        if s<=i:\n",
    "            print(num, end = '')\n",
    "            num+=1\n",
    "        else:\n",
    "            print(num-2, end = '')\n",
    "            num-=1\n",
    "        s+=1\n",
    "    print()\n",
    "    i += 1"
   ]
  },
  {
   "cell_type": "code",
   "execution_count": 19,
   "metadata": {},
   "outputs": [
    {
     "name": "stdout",
     "output_type": "stream",
     "text": [
      "1                1\n",
      "12              21\n",
      "123            321\n",
      "1234          4321\n",
      "12345        54321\n",
      "123456      654321\n",
      "1234567    7654321\n",
      "12345678  87654321\n",
      "123456789987654321\n"
     ]
    }
   ],
   "source": [
    "n = int(input())\n",
    "i=1\n",
    "while i<=n:\n",
    "    j=1\n",
    "    while j<=2*n:\n",
    "        if j<=i:\n",
    "            print(j,end='')\n",
    "            j+=1\n",
    "        elif i<j<=2*n-i:\n",
    "            print(' ',end = '')\n",
    "            j+=1\n",
    "        else:\n",
    "            print(2*n-j+1,end = '')\n",
    "            j+=1\n",
    "    print()\n",
    "    i+=1\n",
    "\n"
   ]
  },
  {
   "cell_type": "code",
   "execution_count": 22,
   "metadata": {},
   "outputs": [
    {
     "name": "stdout",
     "output_type": "stream",
     "text": [
      "*00*00*\n",
      "0*0*0*0\n",
      "00***00\n"
     ]
    }
   ],
   "source": [
    "n = int(input())\n",
    "i=1\n",
    "while i<=n:\n",
    "    j=1\n",
    "    while j<=2*n+1:\n",
    "        if j==i or j==n+1 or j== (2*n)+2-i:\n",
    "            print('*',end='')\n",
    "            j+=1\n",
    "        else:\n",
    "            print(0,end = '')\n",
    "            j+=1\n",
    "    print()\n",
    "    i+=1"
   ]
  },
  {
   "cell_type": "code",
   "execution_count": 1,
   "metadata": {},
   "outputs": [
    {
     "name": "stdout",
     "output_type": "stream",
     "text": [
      "*           \n",
      " * *         \n",
      "  * * *       \n",
      "   * * * *     \n",
      "    * * * * *   \n",
      "     * * * * * * \n",
      "    * * * * *   \n",
      "   * * * *     \n",
      "  * * *       \n",
      " * *         \n",
      "*           \n"
     ]
    }
   ],
   "source": [
    "n = int(input())\n",
    "i = 1\n",
    "\n",
    "while i <= n:\n",
    "    j=1\n",
    "    while j<=n:\n",
    "        if i<=(n+1)//2:\n",
    "            if i<=j<=2*i-1:\n",
    "                print('* ',end = '')\n",
    "                j+=1\n",
    "            else:\n",
    "                print(' ',end = '')\n",
    "                j+=1\n",
    "        else:\n",
    "            if (n-i+1)<=j<2*(n-i+1):\n",
    "                print('* ',end = '')\n",
    "                j+=1\n",
    "            else:\n",
    "                print(' ',end = '')\n",
    "                j+=1\n",
    "    print()\n",
    "    i = i + 1"
   ]
  },
  {
   "cell_type": "code",
   "execution_count": 9,
   "metadata": {},
   "outputs": [
    {
     "name": "stdout",
     "output_type": "stream",
     "text": [
      "11111111111\n",
      "0000000000\n",
      "111111111\n",
      "00000000\n",
      "1111111\n",
      "000000\n",
      "11111\n",
      "0000\n",
      "111\n",
      "00\n",
      "1\n"
     ]
    }
   ],
   "source": [
    "\n",
    "n = int(input())\n",
    "for i in range(1,n+1):\n",
    "    for j in range(1,n-i+2): \n",
    "        if i%2!=0:\n",
    "            print('1',end='')\n",
    "        else:\n",
    "            print('0',end='')\n",
    "    print()\n",
    "            "
   ]
  },
  {
   "cell_type": "code",
   "execution_count": 2,
   "metadata": {},
   "outputs": [
    {
     "name": "stdout",
     "output_type": "stream",
     "text": [
      "123456\n",
      " 23456\n",
      "  3456\n",
      "   456\n",
      "    56\n",
      "     6\n",
      "    56\n",
      "   456\n",
      "  3456\n",
      " 23456\n",
      "123456\n"
     ]
    }
   ],
   "source": [
    "# 123456\n",
    "#  23456\n",
    "#   3456\n",
    "#    456\n",
    "#     56\n",
    "#      6\n",
    "#     56\n",
    "#    456\n",
    "#   3456\n",
    "#  23456\n",
    "# 123456\n",
    "n = int(input())\n",
    "for i in range(1,n+1):\n",
    "    for s in range(1,i):\n",
    "        print(' ',end = '')\n",
    "    for j in range(i,n+1):\n",
    "        print(j,end = '')\n",
    "    print() \n",
    "for i in range(n-1,0,-1):\n",
    "    for s in range(1,i):\n",
    "        print(' ',end = '')\n",
    "    for j in range(i,n+1):\n",
    "        print(j,end = '')\n",
    "    print()"
   ]
  },
  {
   "cell_type": "code",
   "execution_count": 9,
   "metadata": {},
   "outputs": [
    {
     "name": "stdout",
     "output_type": "stream",
     "text": [
      "  *\n",
      " ***\n",
      "*****\n",
      " ***\n",
      "  *\n"
     ]
    }
   ],
   "source": [
    "n = int(input())\n",
    "if n%2!=0:\n",
    "    n = (n+1)//2\n",
    "    for i in range(1,n+1):   \n",
    "        for s in range(1,n-i+1):\n",
    "            print(' ',end = '')\n",
    "        for j in range(1,2*i):\n",
    "            print('*',end = '')\n",
    "        print()\n",
    "    for i in range(n-1,0,-1):\n",
    "        for s in range(1,n-i+1):\n",
    "            print(' ',end = '')\n",
    "        for j in range(1,2*i):\n",
    "            print('*',end = '')\n",
    "        print()"
   ]
  },
  {
   "cell_type": "code",
   "execution_count": 39,
   "metadata": {},
   "outputs": [
    {
     "name": "stdout",
     "output_type": "stream",
     "text": [
      "4444444\n",
      "4333334\n",
      "4322234\n",
      "4321234\n",
      "4322234\n",
      "4333334\n",
      "4444444\n"
     ]
    }
   ],
   "source": [
    "n = int(input())\n",
    "for i in range(n,0,-1):\n",
    "    for f in range(1,n-i+1):\n",
    "        print(n-f+1,end='')\n",
    "    for j in range(1,2*i,1):\n",
    "        print(i,end='')\n",
    "    for l in range(1,n-i+1):\n",
    "        print(n-f+l,end='')\n",
    "    print()\n",
    "\n",
    "for i in range(2,n+1):\n",
    "    for f in range(1,n-i+1):\n",
    "        print(n-f+1,end='')\n",
    "    for j in range(1,2*i):\n",
    "        print(i,end='')\n",
    "    for l in range(1,n-i+1):\n",
    "        print(i+l,end='')\n",
    "    print()\n"
   ]
  },
  {
   "cell_type": "code",
   "execution_count": 45,
   "metadata": {},
   "outputs": [
    {
     "name": "stdout",
     "output_type": "stream",
     "text": [
      "0 \t -17\n",
      "20 \t -6\n",
      "40 \t 4\n",
      "60 \t 15\n",
      "80 \t 26\n",
      "100 \t 37\n"
     ]
    }
   ],
   "source": [
    "def toCelcius(s,e,w):\n",
    "    for i in range(s,e+1,w):\n",
    "        print(i,'\\t',int(((i-32)*5)/9))\n",
    "\n",
    "toCelcius(0,100,20)\n"
   ]
  },
  {
   "cell_type": "code",
   "execution_count": 47,
   "metadata": {},
   "outputs": [
    {
     "data": {
      "text/plain": [
       "True"
      ]
     },
     "execution_count": 47,
     "metadata": {},
     "output_type": "execute_result"
    }
   ],
   "source": [
    "def isFibonacci(n):\n",
    "    first = 1\n",
    "    sec = 1\n",
    "    for i in range(1,n+1):\n",
    "        fib = first + sec\n",
    "        first = sec\n",
    "        sec = fib\n",
    "        if (fib ==n):\n",
    "            return True\n",
    "            break        \n",
    "    else:\n",
    "        return False\n",
    "\n",
    "isFibonacci(5)"
   ]
  },
  {
   "cell_type": "code",
   "execution_count": 3,
   "metadata": {},
   "outputs": [
    {
     "data": {
      "text/plain": [
       "True"
      ]
     },
     "execution_count": 3,
     "metadata": {},
     "output_type": "execute_result"
    }
   ],
   "source": [
    "def isPalindrom(num):\n",
    "    new = num\n",
    "    reverse = 0\n",
    "    while num>0:\n",
    "        reverse = reverse*10 + num%10\n",
    "        num = num//10\n",
    "    if new == reverse:\n",
    "         return True\n",
    "    else: \n",
    "        return False\n",
    "            \n",
    "        \n",
    "n = int(input())\n",
    "isPalindrom(n)\n"
   ]
  },
  {
   "cell_type": "code",
   "execution_count": 33,
   "metadata": {},
   "outputs": [
    {
     "name": "stdout",
     "output_type": "stream",
     "text": [
      "false\n"
     ]
    }
   ],
   "source": [
    "def isArmstrong(n):\n",
    "    i = 1\n",
    "    num = 0\n",
    "    dist = n\n",
    "    while dist>0:\n",
    "        dist = dist//10\n",
    "        i+=1\n",
    "    dum = n\n",
    "    while dum>0:\n",
    "        num = (dum%10)**(i-1) + num\n",
    "        dum = dum//10\n",
    "    if num == n:\n",
    "        print('true')\n",
    "    else:\n",
    "        print('false')\n",
    "\n",
    "inp = int(input())\n",
    "isArmstrong(inp)"
   ]
  },
  {
   "cell_type": "code",
   "execution_count": 4,
   "metadata": {},
   "outputs": [
    {
     "name": "stdout",
     "output_type": "stream",
     "text": [
      "1 \n"
     ]
    }
   ],
   "source": [
    "n = int(input( ))\n",
    "P = 1\n",
    "for i in range(1, n + 1):\n",
    "    for j in range(P, P + n):\n",
    "        print(j, end=\" \")\n",
    "    print()\n",
    "    if i == ((n + 1)//2):\n",
    "        if (n % 2) != 0:\n",
    "            P = n*(n - 2) + 1\n",
    "        else:\n",
    "            P = n * (n - 1) + 1\n",
    "    elif i > ((n + 1) // 2):\n",
    "        P = P - 2 * n\n",
    "    else:\n",
    "        P = P + 2 * n"
   ]
  },
  {
   "cell_type": "code",
   "execution_count": 5,
   "metadata": {},
   "outputs": [
    {
     "name": "stdout",
     "output_type": "stream",
     "text": [
      "1 \n"
     ]
    }
   ],
   "source": [
    "n = int(input())\n",
    "p = 1\n",
    "for i in range(1,((n+1)//2)+1):\n",
    "    for j in range(1,n+1):\n",
    "        print (p,end=' ')\n",
    "        p+=1\n",
    "    p+=n\n",
    "    print()\n",
    "y = ((n+1)//2)-1\n",
    "x = n-2\n",
    "for k in range(y,0,-1):\n",
    "    for m in range(1,n+1):\n",
    "        print((x*n)+m,end = ' ')\n",
    "    print()\n",
    "    x-=2 \n",
    "\n"
   ]
  },
  {
   "cell_type": "code",
   "execution_count": 38,
   "metadata": {},
   "outputs": [
    {
     "name": "stdout",
     "output_type": "stream",
     "text": [
      "432*\n",
      "43*1\n",
      "4*21\n",
      "*321\n"
     ]
    }
   ],
   "source": [
    "n = int(input())\n",
    "for i in range(1,n+1):\n",
    "    k = n\n",
    "    for j in range(1,n+1):       \n",
    "        if j==(n-i+1):\n",
    "            print('*',end='')\n",
    "        else:\n",
    "            print(k,end = '')\n",
    "        k-=1\n",
    "    print()"
   ]
  },
  {
   "cell_type": "code",
   "execution_count": 7,
   "metadata": {},
   "outputs": [
    {
     "name": "stdout",
     "output_type": "stream",
     "text": [
      "*000*000*\n",
      "0*00*00*0\n",
      "00*0*0*00\n",
      "000***000\n"
     ]
    }
   ],
   "source": [
    "\n",
    "n = int(input())\n",
    "for i in range(1,n+1):\n",
    "    for j in range(1,2*n+2):\n",
    "        if j==i or j == n+1 or j == 2*n+2-i:\n",
    "            print('*',end='')\n",
    "        else:\n",
    "            print('0',end='')\n",
    "        j+=1\n",
    "    print()"
   ]
  },
  {
   "cell_type": "code",
   "execution_count": 62,
   "metadata": {},
   "outputs": [
    {
     "name": "stdout",
     "output_type": "stream",
     "text": [
      "true\n"
     ]
    }
   ],
   "source": [
    "n = int(input())\n",
    "start = n\n",
    "dum = n\n",
    "lng = 0\n",
    "while dum >0:\n",
    "    dum = dum//10\n",
    "    lng+=1\n",
    "new = 0\n",
    "while n >0:\n",
    "    new = new + (n%10)**lng\n",
    "    n = n//10\n",
    "if new==start:\n",
    "    print('true')\n",
    "else:\n",
    "    print('false')"
   ]
  },
  {
   "attachments": {},
   "cell_type": "markdown",
   "metadata": {},
   "source": [
    "LISTS"
   ]
  },
  {
   "cell_type": "code",
   "execution_count": 17,
   "metadata": {},
   "outputs": [
    {
     "name": "stdout",
     "output_type": "stream",
     "text": [
      "[]\n"
     ]
    }
   ],
   "source": [
    "li =[1,2,3,4,5,6,7]\n",
    "print(li[::-1])"
   ]
  },
  {
   "cell_type": "code",
   "execution_count": 29,
   "metadata": {},
   "outputs": [
    {
     "name": "stdout",
     "output_type": "stream",
     "text": [
      "26\n"
     ]
    }
   ],
   "source": [
    "n = int(input())\n",
    "li = [int(x) for x in input().split()]\n",
    "sum = 0\n",
    "for i in li:\n",
    "    sum+=i\n",
    "print(sum)\n"
   ]
  },
  {
   "cell_type": "code",
   "execution_count": 1,
   "metadata": {},
   "outputs": [
    {
     "name": "stdout",
     "output_type": "stream",
     "text": [
      "[1, 4, 3, 4, 5]\n"
     ]
    }
   ],
   "source": [
    "def change(li):\n",
    "    li[1] = li[1] + 2\n",
    "li = [1,2,3,4,5]\n",
    "change(li)\n",
    "print(li)"
   ]
  },
  {
   "cell_type": "code",
   "execution_count": 1,
   "metadata": {},
   "outputs": [
    {
     "name": "stdout",
     "output_type": "stream",
     "text": [
      "2 1 4 3 5 6 "
     ]
    }
   ],
   "source": [
    "def swapAlternate(arr, n) :\n",
    "    if n%2!=0:\n",
    "        n-=1         \n",
    "    for i in range(0,n,2) :\n",
    "        arr[i],arr[i+1] =arr[i+1],arr[i]\n",
    "    for x in arr:\n",
    "        print(x,end=' ')\n",
    "\n",
    "swapAlternate([int(x) for x in input().split()],int(input()))"
   ]
  },
  {
   "cell_type": "code",
   "execution_count": 38,
   "metadata": {},
   "outputs": [
    {
     "name": "stdout",
     "output_type": "stream",
     "text": [
      "2 4 3 "
     ]
    }
   ],
   "source": [
    "def uniqueEl(arr1,n,arr2,m):\n",
    "    newArr = []\n",
    "    for i in arr1:\n",
    "        for j in arr2:\n",
    "            if j == i:\n",
    "                newArr.append(i)\n",
    "                arr2.remove(j)\n",
    "                break\n",
    "    for k in newArr:\n",
    "        print(k,end=' ')\n",
    "\n",
    "uniqueEl([2,6,8,5,4,3],7,[2,3,2,4,7],4)\n"
   ]
  },
  {
   "cell_type": "code",
   "execution_count": 30,
   "metadata": {},
   "outputs": [
    {
     "data": {
      "text/plain": [
       "2"
      ]
     },
     "execution_count": 30,
     "metadata": {},
     "output_type": "execute_result"
    }
   ],
   "source": [
    "def sumPairs(arr1,n,x):\n",
    "    k=0\n",
    "    for i in range(n):\n",
    "        for j in range(n):\n",
    "            if j<=i:\n",
    "                continue\n",
    "            elif arr1[j] + arr1[i]==x :\n",
    "                k+=1\n",
    "    return k\n",
    "\n",
    "sumPairs([2,8,10,5,-2,5],6,10)"
   ]
  },
  {
   "cell_type": "code",
   "execution_count": 41,
   "metadata": {},
   "outputs": [
    {
     "data": {
      "text/plain": [
       "2"
      ]
     },
     "execution_count": 41,
     "metadata": {},
     "output_type": "execute_result"
    }
   ],
   "source": [
    "# more effective code less times a for loop is run in comparision  to the previous code\n",
    "def sumPairs(arr1,n,x):\n",
    "    k=0\n",
    "    for i in range(n):\n",
    "        for j in range((i+1),n):\n",
    "            if arr1[j] + arr1[i]==x :\n",
    "                k+=1\n",
    "    return k\n",
    "\n",
    "sumPairs([2,8,10,5,-2,5],6,10)"
   ]
  },
  {
   "cell_type": "code",
   "execution_count": 42,
   "metadata": {},
   "outputs": [
    {
     "data": {
      "text/plain": [
       "5"
      ]
     },
     "execution_count": 42,
     "metadata": {},
     "output_type": "execute_result"
    }
   ],
   "source": [
    "def tripletSum(arr,n,x):\n",
    "    k=0\n",
    "    for i in range(n):\n",
    "        for j in range((i+1),n):\n",
    "            for l in range((j+1),n):\n",
    "                if arr[j] + arr[i]+arr[l]==x :\n",
    "                    k+=1\n",
    "    return k\n",
    "tripletSum([2,-5,8,-6,0,5,10,11,-3],9,10)"
   ]
  },
  {
   "cell_type": "code",
   "execution_count": 43,
   "metadata": {},
   "outputs": [
    {
     "data": {
      "text/plain": [
       "[0, 0, 0, 1, 1, 1, 1, 1]"
      ]
     },
     "execution_count": 43,
     "metadata": {},
     "output_type": "execute_result"
    }
   ],
   "source": [
    "def sortZero(arr,n):\n",
    "    count = 0 \n",
    "  \n",
    "    for i in range(0, n) : \n",
    "        if (arr[i] == 0) : \n",
    "            count = count + 1\n",
    "  \n",
    "    for i in range(0, count) : \n",
    "        arr[i] = 0\n",
    "  \n",
    "    for i in range(count, n) : \n",
    "        arr[i] = 1\n",
    "    return arr\n",
    "\n",
    "sortZero([1,0,1,1,0,1,0,1],8)"
   ]
  },
  {
   "cell_type": "code",
   "execution_count": 45,
   "metadata": {},
   "outputs": [
    {
     "data": {
      "text/plain": [
       "[0, 0, 0, 1, 1, 1, 1, 1]"
      ]
     },
     "execution_count": 45,
     "metadata": {},
     "output_type": "execute_result"
    }
   ],
   "source": [
    "def sortZero(arr,n):\n",
    "    count = 0\n",
    "    for i in range(n):\n",
    "        if arr[i]==0:\n",
    "            temp = arr[count]\n",
    "            arr[count] = arr[i]  \n",
    "            arr[i]=temp\n",
    "            count+=1          \n",
    "    return arr\n",
    "\n",
    "sortZero([1,0,1,1,0,1,0,1],8)"
   ]
  }
 ],
 "metadata": {
  "kernelspec": {
   "display_name": "Python 3.10.4 64-bit",
   "language": "python",
   "name": "python3"
  },
  "language_info": {
   "codemirror_mode": {
    "name": "ipython",
    "version": 3
   },
   "file_extension": ".py",
   "mimetype": "text/x-python",
   "name": "python",
   "nbconvert_exporter": "python",
   "pygments_lexer": "ipython3",
   "version": "3.10.4"
  },
  "orig_nbformat": 4,
  "vscode": {
   "interpreter": {
    "hash": "369f2c481f4da34e4445cda3fffd2e751bd1c4d706f27375911949ba6bb62e1c"
   }
  }
 },
 "nbformat": 4,
 "nbformat_minor": 2
}
