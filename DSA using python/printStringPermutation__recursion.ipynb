{
 "cells": [
  {
   "cell_type": "code",
   "execution_count": null,
   "metadata": {},
   "outputs": [],
   "source": [
    "def printPermutations(s, start=0):\n",
    "    if start == len(s) - 1:\n",
    "        print(s)\n",
    "        return\n",
    "    for i in range(start, len(s)):\n",
    "        s_list = list(s)\n",
    "        s_list[start], s_list[i] = s_list[i], s_list[start]\n",
    "        printPermutations(''.join(s_list), start + 1)\n",
    "\n",
    "\n",
    "string = input()\n",
    "printPermutations(string)"
   ]
  }
 ],
 "metadata": {
  "language_info": {
   "name": "python"
  },
  "orig_nbformat": 4
 },
 "nbformat": 4,
 "nbformat_minor": 2
}
