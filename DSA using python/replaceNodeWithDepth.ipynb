{
 "cells": [
  {
   "cell_type": "code",
   "execution_count": null,
   "metadata": {},
   "outputs": [],
   "source": [
    "# replace all the nodes with the depth of the node\n",
    "# For a given a Binary Tree of integers, replace each of its data with the depth of the tree.\n",
    "# Root is at depth 0, hence the root data is updated with 0. Replicate the same further going down the in the depth of the given tree.\n",
    "# The modified tree will be printed in the in-order fashion.\n",
    "\n",
    "class BinaryTreeNode:\n",
    "    def __init__(self,data):\n",
    "        self.data = data\n",
    "        self.left = None\n",
    "        self.right = None\n",
    "                 \n",
    "    \n",
    "def treeinput():\n",
    "    rootData = int(input())\n",
    "    if rootData  == -1:\n",
    "        return None\n",
    "    root = BinaryTreeNode(rootData)\n",
    "    leftTree = treeinput()\n",
    "    rightTree = treeinput()\n",
    "    root.left = leftTree\n",
    "    root.right = rightTree\n",
    "    return root \n",
    "\n",
    "\n",
    "    \n",
    "def changeToDepth(root,d=0):\n",
    "    if root==-1 or root is None:\n",
    "        return\n",
    "    root.data =d\n",
    "    changeToDepth(root.left,d+1)\n",
    "    changeToDepth(root.right,d+1)\n",
    "    \n",
    "\n",
    "root = treeinput()\n",
    "changeToDepth(root)"
   ]
  }
 ],
 "metadata": {
  "kernelspec": {
   "display_name": "Python 3",
   "language": "python",
   "name": "python3"
  },
  "language_info": {
   "name": "python",
   "version": "3.10.4"
  },
  "orig_nbformat": 4,
  "vscode": {
   "interpreter": {
    "hash": "369f2c481f4da34e4445cda3fffd2e751bd1c4d706f27375911949ba6bb62e1c"
   }
  }
 },
 "nbformat": 4,
 "nbformat_minor": 2
}
