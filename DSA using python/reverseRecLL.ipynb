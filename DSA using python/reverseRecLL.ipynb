{
 "cells": [
  {
   "cell_type": "code",
   "execution_count": null,
   "metadata": {},
   "outputs": [],
   "source": [
    "def reverseLinkedListRec(head):\n",
    "    if not head or not head.next:\n",
    "        return head\n",
    "\n",
    "    new_head = reverseLinkedListRec(head.next)\n",
    "    head.next.next = head\n",
    "    head.next = None\n",
    "\n",
    "    return new_head\n",
    "\n",
    "def reverse(head):\n",
    "    prev = None\n",
    "    curr = head\n",
    "    while curr:\n",
    "        temp = curr.next\n",
    "        curr.next = prev\n",
    "        prev = curr\n",
    "        curr = temp\n",
    "    return prev"
   ]
  }
 ],
 "metadata": {
  "kernelspec": {
   "display_name": "Python 3",
   "language": "python",
   "name": "python3"
  },
  "language_info": {
   "name": "python",
   "version": "3.10.4"
  },
  "orig_nbformat": 4,
  "vscode": {
   "interpreter": {
    "hash": "369f2c481f4da34e4445cda3fffd2e751bd1c4d706f27375911949ba6bb62e1c"
   }
  }
 },
 "nbformat": 4,
 "nbformat_minor": 2
}
