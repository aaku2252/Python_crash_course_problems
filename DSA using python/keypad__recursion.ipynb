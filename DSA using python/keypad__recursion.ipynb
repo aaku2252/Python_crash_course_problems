{
 "cells": [
  {
   "cell_type": "code",
   "execution_count": null,
   "metadata": {},
   "outputs": [],
   "source": [
    "keypad = {\n",
    "    '2': 'abc',\n",
    "    '3': 'def',\n",
    "    '4': 'ghi',\n",
    "    '5': 'jkl',\n",
    "    '6': 'mno',\n",
    "    '7': 'pqrs',\n",
    "    '8': 'tuv',\n",
    "    '9': 'wxyz'\n",
    "}\n",
    "\n",
    "def keypad_strings(n):\n",
    "    if len(n) == 0:\n",
    "        return ['']\n",
    "    \n",
    "    first_digit = n[0]\n",
    "    remaining_digits = n[1:]\n",
    "    \n",
    "    small_output = keypad_strings(remaining_digits)\n",
    "    output = []\n",
    "    for character in keypad[first_digit]:\n",
    "        for item in small_output:\n",
    "            new_item = character + item\n",
    "            output.append(new_item)\n",
    "    \n",
    "    return output\n",
    "\n",
    "# example usage:\n",
    "n = input().strip()\n",
    "result = keypad_strings(n)\n",
    "for string in result:\n",
    "    print(string)"
   ]
  }
 ],
 "metadata": {
  "language_info": {
   "name": "python"
  },
  "orig_nbformat": 4
 },
 "nbformat": 4,
 "nbformat_minor": 2
}
