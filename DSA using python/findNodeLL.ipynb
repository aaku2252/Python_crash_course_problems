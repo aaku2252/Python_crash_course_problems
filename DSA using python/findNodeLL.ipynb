{
 "cells": [
  {
   "cell_type": "code",
   "execution_count": null,
   "metadata": {},
   "outputs": [],
   "source": [
    "def findNodeRec(head, n, index=0):\n",
    "\n",
    "    if head is None:\n",
    "        return -1\n",
    "    if head.data == n:\n",
    "        return index\n",
    "    return findNodeRec(head.next, n, index+1)"
   ]
  }
 ],
 "metadata": {
  "language_info": {
   "name": "python"
  },
  "orig_nbformat": 4
 },
 "nbformat": 4,
 "nbformat_minor": 2
}
