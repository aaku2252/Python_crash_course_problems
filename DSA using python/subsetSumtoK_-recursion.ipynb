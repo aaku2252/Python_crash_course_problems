{
 "cells": [
  {
   "cell_type": "code",
   "execution_count": null,
   "metadata": {},
   "outputs": [],
   "source": [
    "def subsetSum(arr, n, k, output):\n",
    "    if n == 0:\n",
    "        if k == 0:\n",
    "            for ele in output:\n",
    "                print(ele, end=' ')\n",
    "            print()\n",
    "        return\n",
    "\n",
    "    subsetSum(arr[1:], n - 1, k, output)\n",
    "    subsetSum(arr[1:], n - 1, k - arr[0], output + [arr[0]])\n",
    "\n",
    "# Taking input from user\n",
    "n = int(input())\n",
    "arr = list(map(int, input().split()))\n",
    "k = int(input())\n",
    "subsetSum(arr, n, k, [])"
   ]
  }
 ],
 "metadata": {
  "language_info": {
   "name": "python"
  },
  "orig_nbformat": 4
 },
 "nbformat": 4,
 "nbformat_minor": 2
}
