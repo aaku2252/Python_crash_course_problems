{
 "cells": [
  {
   "cell_type": "code",
   "execution_count": null,
   "metadata": {},
   "outputs": [],
   "source": [
    "def nodeToRootPath(root,s):\n",
    "    if root is None:\n",
    "        return None\n",
    "    if root.data ==s:\n",
    "        l = list()\n",
    "        l.append(root.data)\n",
    "        return l\n",
    "    \n",
    "    leftOutput = nodeToRootPath(root.left,s)\n",
    "    if leftOutput!=None:\n",
    "        leftOutput.append(root.data)\n",
    "        return leftOutput\n",
    "    rightOutput = nodeToRootPath(root.right,s)\n",
    "    if rightOutput!=None:\n",
    "        rightOutput.append(root.data)\n",
    "        return rightOutput\n",
    "    else:\n",
    "        return None"
   ]
  }
 ],
 "metadata": {
  "language_info": {
   "name": "python"
  },
  "orig_nbformat": 4
 },
 "nbformat": 4,
 "nbformat_minor": 2
}
