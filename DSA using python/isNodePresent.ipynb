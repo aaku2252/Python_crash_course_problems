{
 "cells": [
  {
   "cell_type": "code",
   "execution_count": null,
   "metadata": {},
   "outputs": [],
   "source": [
    "# For a given Binary Tree of type integer and a number X, find whether a node exists in the tree with data X or not.\n",
    "\n",
    "\n",
    "class BinaryTreeNode:\n",
    "    def __init__(self,data):\n",
    "        self.data = data\n",
    "        self.left = None\n",
    "        self.right = None\n",
    "                 \n",
    "    \n",
    "def treeinput():\n",
    "    rootData = int(input())\n",
    "    if rootData  == -1:\n",
    "        return None\n",
    "    root = BinaryTreeNode(rootData)\n",
    "    leftTree = treeinput()\n",
    "    rightTree = treeinput()\n",
    "    root.left = leftTree\n",
    "    root.right = rightTree\n",
    "    return root \n",
    "\n",
    "\n",
    "    \n",
    "def isNodePresent(root, x):\n",
    "    if root ==-1 or root is None:\n",
    "        return False\n",
    "    if root.data ==x:\n",
    "        return True\n",
    "    leftNodePresent = isNodePresent(root.left, x)\n",
    "    rightNodePresent = isNodePresent(root.right, x)\n",
    "    if leftNodePresent or rightNodePresent:\n",
    "        return True\n",
    "    return False\n",
    "    \n",
    "\n",
    "root = treeinput()\n",
    "x = 3\n",
    "isNodePresent(root,x)"
   ]
  }
 ],
 "metadata": {
  "language_info": {
   "name": "python"
  },
  "orig_nbformat": 4
 },
 "nbformat": 4,
 "nbformat_minor": 2
}
