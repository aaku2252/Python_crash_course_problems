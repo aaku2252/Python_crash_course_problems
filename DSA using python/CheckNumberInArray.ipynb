{
 "cells": [
  {
   "cell_type": "code",
   "execution_count": 6,
   "metadata": {},
   "outputs": [
    {
     "data": {
      "text/plain": [
       "True"
      ]
     },
     "execution_count": 6,
     "metadata": {},
     "output_type": "execute_result"
    }
   ],
   "source": [
    "# Given an array of length N and an integer x, you need to find if x is present in the array or not. Return true or false.\n",
    "# Do this recursively.\n",
    "# Input Format :\n",
    "# Line 1 : An Integer N i.e. size of array\n",
    "# Line 2 : N integers which are elements of the array, separated by spaces\n",
    "# Line 3 : Integer x\n",
    "# Output Format :\n",
    "# 'true' or 'false'\n",
    "\n",
    "def checkNumber(arr,x):\n",
    "    if   len(arr)==1 and arr[0]!=x:\n",
    "        return False\n",
    "    if arr[0]==x: \n",
    "        return True\n",
    "    return checkNumber(arr[1:],x)\n",
    "    \n",
    "    \n",
    "    \n",
    "checkNumber([1,3,4,5,6,8,9,8,10],8)    "
   ]
  }
 ],
 "metadata": {
  "kernelspec": {
   "display_name": "Python 3",
   "language": "python",
   "name": "python3"
  },
  "language_info": {
   "codemirror_mode": {
    "name": "ipython",
    "version": 3
   },
   "file_extension": ".py",
   "mimetype": "text/x-python",
   "name": "python",
   "nbconvert_exporter": "python",
   "pygments_lexer": "ipython3",
   "version": "3.10.4 (tags/v3.10.4:9d38120, Mar 23 2022, 23:13:41) [MSC v.1929 64 bit (AMD64)]"
  },
  "orig_nbformat": 4,
  "vscode": {
   "interpreter": {
    "hash": "369f2c481f4da34e4445cda3fffd2e751bd1c4d706f27375911949ba6bb62e1c"
   }
  }
 },
 "nbformat": 4,
 "nbformat_minor": 2
}
