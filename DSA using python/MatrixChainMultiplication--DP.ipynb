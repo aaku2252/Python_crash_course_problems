{
 "cells": [
  {
   "cell_type": "code",
   "execution_count": null,
   "metadata": {},
   "outputs": [],
   "source": [
    "def matrixChainMultiplication(p, n):\n",
    "    dp = [[0 for j in range(n+1)] for i in range(n+1)]  # initialize dp array\n",
    "    for length in range(2, n+1):  # length of subchain\n",
    "        for i in range(1, n-length+2):  # starting index of subchain\n",
    "            j = i+length-1  # ending index of subchain\n",
    "            dp[i][j] = float('inf')  # initialize to infinity\n",
    "            for k in range(i, j):  # split subchain into two subchains\n",
    "                # compute the number of multiplications needed for each subchain\n",
    "                temp = dp[i][k] + dp[k+1][j] + p[i-1]*p[k]*p[j]\n",
    "                dp[i][j] = min(dp[i][j], temp)  # take the minimum\n",
    "    return dp[1][n]\n",
    "\n",
    "# sample input\n",
    "n = 3\n",
    "p = [10, 15, 20, 25]\n",
    "\n",
    "# function call\n",
    "minMultiplications = matrixChainMultiplication(p, n)\n",
    "\n",
    "# print output\n",
    "print(minMultiplications)\n"
   ]
  }
 ],
 "metadata": {
  "language_info": {
   "name": "python"
  },
  "orig_nbformat": 4
 },
 "nbformat": 4,
 "nbformat_minor": 2
}
