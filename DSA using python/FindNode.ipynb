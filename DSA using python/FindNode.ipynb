{
 "cells": [
  {
   "cell_type": "code",
   "execution_count": null,
   "metadata": {},
   "outputs": [],
   "source": [
    "def findNode(head, n):\n",
    "    curr = head\n",
    "    index = 0\n",
    "    while curr is not None:\n",
    "        if curr.data == n:\n",
    "            return index\n",
    "        curr = curr.next\n",
    "        index += 1\n",
    "    return -1"
   ]
  }
 ],
 "metadata": {
  "language_info": {
   "name": "python"
  },
  "orig_nbformat": 4
 },
 "nbformat": 4,
 "nbformat_minor": 2
}
