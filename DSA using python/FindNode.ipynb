{
 "cells": [
  {
   "cell_type": "code",
   "execution_count": null,
   "metadata": {},
   "outputs": [],
   "source": [
    "class Node :\n",
    "    def __init__(self, data) :\n",
    "        self.data = data\n",
    "        self.next = None\n",
    "        \n",
    "def takeInput(arr) :\n",
    "    head = None\n",
    "    tail = None\n",
    "\n",
    "    datas = arr\n",
    "\n",
    "    i = 0\n",
    "    while (i < len(datas)) and (datas[i] != -1) :\n",
    "        data = datas[i]\n",
    "        newNode = Node(data)\n",
    "\n",
    "        if head is None :\n",
    "            head = newNode\n",
    "            tail = newNode\n",
    "\n",
    "        else :\n",
    "            tail.next = newNode\n",
    "            tail = newNode\n",
    "\n",
    "        i += 1\n",
    "\n",
    "    return head\n",
    "\n",
    "def printLL(head):\n",
    "    while head is not None:\n",
    "        print(head.data,end=\" \")\n",
    "        head = head.next\n",
    "    print()\n",
    "\n",
    "\n",
    "\n",
    "def findNodeRec(head, n):\n",
    "    if head is None:\n",
    "        return -1\n",
    "    i = 0\n",
    "    while head is not None : \n",
    "        if head.data ==n:\n",
    "            break\n",
    "        head = head.next\n",
    "        if head ==None:\n",
    "            print(-1)\n",
    "            return\n",
    "        i+=1\n",
    "    print(i) \n",
    "    \n",
    "\n",
    "head1 = takeInput([10,20,30,40,50,-1])\n",
    "head = findNodeRec(head1,-1)"
   ]
  }
 ],
 "metadata": {
  "kernelspec": {
   "display_name": "Python 3",
   "language": "python",
   "name": "python3"
  },
  "language_info": {
   "name": "python",
   "version": "3.10.4"
  },
  "orig_nbformat": 4,
  "vscode": {
   "interpreter": {
    "hash": "369f2c481f4da34e4445cda3fffd2e751bd1c4d706f27375911949ba6bb62e1c"
   }
  }
 },
 "nbformat": 4,
 "nbformat_minor": 2
}
