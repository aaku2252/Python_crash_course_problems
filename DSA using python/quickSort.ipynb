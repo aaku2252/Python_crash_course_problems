{
 "cells": [
  {
   "cell_type": "code",
   "execution_count": 35,
   "metadata": {},
   "outputs": [
    {
     "data": {
      "text/plain": [
       "[2, 5, 6, 8]"
      ]
     },
     "execution_count": 35,
     "metadata": {},
     "output_type": "execute_result"
    }
   ],
   "source": [
    "# Sort an array A using Quick Sort.\n",
    "# Change in the input array itself. So no need to return or print anything.\n",
    "\n",
    "\n",
    "# Input format :\n",
    "# Line 1 : Integer n i.e. Array size\n",
    "# Line 2 : Array elements (separated by space)\n",
    "# Output format :\n",
    "# Array elements in increasing order (separated by space)\n",
    "\n",
    "\n",
    "def quickSort(arr):\n",
    "    if len(arr) == 0 or len(arr) == 1:\n",
    "        return arr\n",
    "    pivot = -1\n",
    "    a1 = [x for x in arr if x<arr[pivot]]\n",
    "    a2 = [x for x in arr if x==arr[pivot]]\n",
    "    a3 = [x for x in arr if x>arr[pivot]]\n",
    "    \n",
    "    sortedArray = quickSort(a1)+a2+quickSort(a3)\n",
    "            \n",
    "            \n",
    "            \n",
    "    return sortedArray\n",
    "\n",
    "arr = [6,2,8,5]\n",
    "quickSort(arr)\n",
    "# arr"
   ]
  },
  {
   "cell_type": "code",
   "execution_count": 10,
   "metadata": {},
   "outputs": [
    {
     "data": {
      "text/plain": [
       "[2, 3, 4, 5, 5, 6, 6, 6, 8, 8, 21, 34, 43, 65, 78]"
      ]
     },
     "execution_count": 10,
     "metadata": {},
     "output_type": "execute_result"
    }
   ],
   "source": [
    "def partition(arr,si,ei):\n",
    "    pivot = arr[si]\n",
    "    c=0\n",
    "    for i in range(si,ei+1):\n",
    "        if arr[i]< pivot:\n",
    "            c+=1\n",
    "    arr[si+c],arr[si]=arr[si],arr[si+c]\n",
    "    pivot_index = si+c\n",
    "    \n",
    "    i = si\n",
    "    j = ei\n",
    "    while i<j:\n",
    "        if arr[i]<pivot:\n",
    "            i+=1\n",
    "        elif arr[j]>=pivot:\n",
    "            j-=1\n",
    "        else:\n",
    "            arr[i],arr[j] = arr[j],arr[i]\n",
    "            i+=1\n",
    "            j-=1\n",
    "            \n",
    "    return pivot_index\n",
    "    \n",
    "    \n",
    "    \n",
    "    \n",
    "\n",
    "def quickSort(arr,si,ei):\n",
    "    if si>=ei:\n",
    "        return\n",
    "    \n",
    "    pivot_index = partition(arr,si,ei)\n",
    "    quickSort(arr,si,pivot_index-1)\n",
    "    quickSort(arr,pivot_index+1,ei)\n",
    "    \n",
    "    \n",
    "    \n",
    "    \n",
    "    \n",
    "arr = [6,2,8,5,5,6,3,6,8,4,34,21,65,78,43]\n",
    "quickSort(arr,0,len(arr)-1)\n",
    "arr"
   ]
  }
 ],
 "metadata": {
  "kernelspec": {
   "display_name": "Python 3",
   "language": "python",
   "name": "python3"
  },
  "language_info": {
   "codemirror_mode": {
    "name": "ipython",
    "version": 3
   },
   "file_extension": ".py",
   "mimetype": "text/x-python",
   "name": "python",
   "nbconvert_exporter": "python",
   "pygments_lexer": "ipython3",
   "version": "3.10.4"
  },
  "orig_nbformat": 4,
  "vscode": {
   "interpreter": {
    "hash": "369f2c481f4da34e4445cda3fffd2e751bd1c4d706f27375911949ba6bb62e1c"
   }
  }
 },
 "nbformat": 4,
 "nbformat_minor": 2
}
