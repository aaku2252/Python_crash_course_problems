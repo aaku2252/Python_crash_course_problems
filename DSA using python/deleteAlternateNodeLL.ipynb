{
 "cells": [
  {
   "cell_type": "code",
   "execution_count": null,
   "metadata": {},
   "outputs": [],
   "source": [
    "class Node :\n",
    "    def __init__(self, data) :\n",
    "        self.data = data\n",
    "        self.next = None\n",
    "\n",
    "\n",
    "def deleteAlternateNodes(head):\n",
    "    if head.next == None:\n",
    "        return head\n",
    "    if head.next.next == None:\n",
    "        head.next = None\n",
    "        return head\n",
    "    newHead = deleteAlternateNodes(head.next.next)\n",
    "    head.next = newHead\n",
    "    return head"
   ]
  }
 ],
 "metadata": {
  "language_info": {
   "name": "python"
  },
  "orig_nbformat": 4
 },
 "nbformat": 4,
 "nbformat_minor": 2
}
