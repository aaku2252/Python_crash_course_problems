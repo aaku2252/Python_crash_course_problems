{
 "cells": [
  {
   "cell_type": "code",
   "execution_count": 1,
   "metadata": {},
   "outputs": [
    {
     "data": {
      "text/plain": [
       "True"
      ]
     },
     "execution_count": 1,
     "metadata": {},
     "output_type": "execute_result"
    }
   ],
   "source": [
    "# Suppose you have a string, S, made up of only 'a's and 'b's. Write a recursive function that checks if the string was generated using the following rules:\n",
    "\n",
    "# a. The string begins with an 'a'\n",
    "# b. Each 'a' is followed by nothing or an 'a' or \"bb\"\n",
    "# c. Each \"bb\" is followed by nothing or an 'a'\n",
    "\n",
    "# If all the rules are followed by the given string, return true otherwise return false.\n",
    "\n",
    "def checkAB(str):\n",
    "    if (len(str) == 0):\n",
    "        return True\n",
    "\n",
    "    if (str[0] == 'a'):\n",
    "        if (len(str[1:]) > 1 and str[1:3] == 'bb'):\n",
    "            return checkAB(str[3:])\n",
    "        else:\n",
    "            return checkAB(str[1:])\n",
    "    else:\n",
    "        return False \n",
    "            \n",
    "            \n",
    "        \n",
    "\n",
    "n = input()\n",
    "print(checkAB(n))"
   ]
  }
 ],
 "metadata": {
  "kernelspec": {
   "display_name": "Python 3",
   "language": "python",
   "name": "python3"
  },
  "language_info": {
   "codemirror_mode": {
    "name": "ipython",
    "version": 3
   },
   "file_extension": ".py",
   "mimetype": "text/x-python",
   "name": "python",
   "nbconvert_exporter": "python",
   "pygments_lexer": "ipython3",
   "version": "3.10.4"
  },
  "orig_nbformat": 4,
  "vscode": {
   "interpreter": {
    "hash": "369f2c481f4da34e4445cda3fffd2e751bd1c4d706f27375911949ba6bb62e1c"
   }
  }
 },
 "nbformat": 4,
 "nbformat_minor": 2
}
