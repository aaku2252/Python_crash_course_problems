{
 "cells": [
  {
   "cell_type": "code",
   "execution_count": null,
   "metadata": {},
   "outputs": [],
   "source": [
    "import queue\n",
    "class BinaryTreeNode:\n",
    "    def __init__(self, data):\n",
    "        self.data = data\n",
    "        self.left = None\n",
    "        self.right = None\n",
    "\n",
    "def constructBST(lst):\n",
    "    if len(lst) <1:\n",
    "        return\n",
    "    n = len(lst)\n",
    "    if n %2 ==0:\n",
    "        i = (n//2)-1\n",
    "    else :\n",
    "        i = ((n+1)//2)-1\n",
    "    node = BinaryTreeNode(lst[i])\n",
    "    node.left = constructBST(lst[:i])\n",
    "    node.right = constructBST(lst[i+1:])\n",
    "    return node\n",
    "\n",
    "def preOrder(root):\n",
    "    if root==None:\n",
    "        return\n",
    "    print(root.data, end=' ')\n",
    "    preOrder(root.left)\n",
    "    preOrder(root.right)\n",
    "\n",
    "# Main\n",
    "n=int(input())\n",
    "if(n>0):\n",
    "    lst=[int(i) for i in input().strip().split()]\n",
    "else:\n",
    "    lst=[]\n",
    "root=constructBST(lst)\n",
    "preOrder(root)"
   ]
  }
 ],
 "metadata": {
  "language_info": {
   "name": "python"
  },
  "orig_nbformat": 4
 },
 "nbformat": 4,
 "nbformat_minor": 2
}
