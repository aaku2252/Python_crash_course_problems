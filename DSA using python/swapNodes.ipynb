{
 "cells": [
  {
   "cell_type": "code",
   "execution_count": null,
   "metadata": {},
   "outputs": [],
   "source": [
    "def swapNodes(head, i, j):\n",
    "    if i == j:\n",
    "        return head\n",
    "\n",
    "    prev_i, node_i = None, head\n",
    "    for _ in range(i):\n",
    "        prev_i = node_i\n",
    "        node_i = node_i.next\n",
    "\n",
    "    prev_j, node_j = None, head\n",
    "    for _ in range(j):\n",
    "        prev_j = node_j\n",
    "        node_j = node_j.next\n",
    "\n",
    "    if prev_i:\n",
    "        prev_i.next = node_j\n",
    "    else:\n",
    "        head = node_j\n",
    "\n",
    "    if prev_j:\n",
    "        prev_j.next = node_i\n",
    "    else:\n",
    "        head = node_i\n",
    "\n",
    "    node_i.next, node_j.next = node_j.next, node_i.next\n",
    "\n",
    "    return head"
   ]
  }
 ],
 "metadata": {
  "language_info": {
   "name": "python"
  },
  "orig_nbformat": 4
 },
 "nbformat": 4,
 "nbformat_minor": 2
}
