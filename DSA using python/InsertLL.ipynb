{
 "cells": [
  {
   "cell_type": "code",
   "execution_count": null,
   "metadata": {},
   "outputs": [],
   "source": [
    "class Node:\n",
    "    def __init__(self, data):\n",
    "        self.data = data\n",
    "        self.next = None\n",
    "\n",
    "def printLL(head):\n",
    "    while head is not None:\n",
    "        print(head.data,end=\" \")\n",
    "        head = head.next\n",
    "\n",
    "def insertLL(head,pos,data):\n",
    "    newNode = Node(data)\n",
    "\n",
    "    if head is None:\n",
    "        head = newNode\n",
    "        return head\n",
    "    if pos ==1:\n",
    "        newNode.next = head\n",
    "        head = newNode\n",
    "        return head\n",
    "    i = 1\n",
    "    prev = None\n",
    "    curr = head\n",
    "    while curr is not None :\n",
    "        prev = curr\n",
    "        curr = curr.next\n",
    "        i+=1\n",
    "    prev.next = newNode\n",
    "    newNode.next = curr\n",
    "    return head\n",
    "\n",
    "node1 = Node(10)\n",
    "node2 = Node(20)\n",
    "node3 = Node(40)\n",
    "node4 = Node(50)\n",
    "node1.next = node2\n",
    "node2.next = node3\n",
    "node3.next = node4\n",
    "newNode = insertLL(node1,5,30)\n",
    "printLL(newNode)"
   ]
  }
 ],
 "metadata": {
  "language_info": {
   "name": "python"
  },
  "orig_nbformat": 4
 },
 "nbformat": 4,
 "nbformat_minor": 2
}
