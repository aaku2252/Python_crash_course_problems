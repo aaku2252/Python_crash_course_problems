{
 "cells": [
  {
   "cell_type": "code",
   "execution_count": null,
   "metadata": {},
   "outputs": [],
   "source": [
    "def maximumProfit(arr):\n",
    "    arr.sort()\n",
    "    maxprofit = len(arr)*arr[0]\n",
    "    subscription = arr[0]\n",
    "    \n",
    "    for i in range(len(arr)):\n",
    "        if arr[i]*(len(arr)-i) >= maxprofit:\n",
    "            maxprofit = arr[i]*(len(arr)-i)\n",
    "            subscription = arr[i]\n",
    "    return maxprofit\n",
    "\n",
    "\n",
    "\n",
    "arr = [int(ele) for ele in input().split()]\n",
    "ans = maximumProfit(arr)\n",
    "print(ans)"
   ]
  }
 ],
 "metadata": {
  "kernelspec": {
   "display_name": "Python 3",
   "language": "python",
   "name": "python3"
  },
  "language_info": {
   "name": "python",
   "version": "3.10.4 (tags/v3.10.4:9d38120, Mar 23 2022, 23:13:41) [MSC v.1929 64 bit (AMD64)]"
  },
  "orig_nbformat": 4,
  "vscode": {
   "interpreter": {
    "hash": "369f2c481f4da34e4445cda3fffd2e751bd1c4d706f27375911949ba6bb62e1c"
   }
  }
 },
 "nbformat": 4,
 "nbformat_minor": 2
}
