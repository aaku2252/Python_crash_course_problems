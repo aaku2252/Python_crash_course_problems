{
 "cells": [
  {
   "cell_type": "code",
   "execution_count": null,
   "metadata": {},
   "outputs": [],
   "source": [
    "# For a given Binary Tree of type integer and a number K, print out all root-to-leaf paths where the sum of all the node data along the path is equal to K.\n",
    "class BinaryTreeNode:\n",
    "    def __init__(self,data):\n",
    "        self.data = data\n",
    "        self.left = None\n",
    "        self.right = None\n",
    "\n",
    "def rootToLeafPathsSumToK(root, sum):\n",
    "    def printPathsUtil(curr_node, sum,\n",
    "                sum_so_far, path):\n",
    "    \n",
    "\n",
    "        if (not curr_node) :\n",
    "            return\n",
    "        sum_so_far += curr_node.data\n",
    "        \n",
    "        path.append(curr_node.data)\n",
    "\n",
    "        if not curr_node.left and not curr_node.right and sum_so_far == sum:\n",
    "            if path:\n",
    "                for i in range(len(path)):\n",
    "                    print(path[i], end = \" \")\n",
    "    \n",
    "                print()\n",
    "        \n",
    "\n",
    "        if (curr_node.left != None) :\n",
    "            printPathsUtil(curr_node.left, sum,\n",
    "                        sum_so_far, path)\n",
    "    \n",
    "\n",
    "        if (curr_node.right != None) :\n",
    "            printPathsUtil(curr_node.right, sum,\n",
    "                        sum_so_far, path)\n",
    "    \n",
    "# pop will remove the node which is either printed or of no use to us as the node is not fulfilling the required conditions\n",
    "        path.pop()\n",
    " \n",
    "    path = []\n",
    "    printPathsUtil(root, sum, 0, path)"
   ]
  }
 ],
 "metadata": {
  "kernelspec": {
   "display_name": "Python 3",
   "language": "python",
   "name": "python3"
  },
  "language_info": {
   "name": "python",
   "version": "3.10.4"
  },
  "orig_nbformat": 4,
  "vscode": {
   "interpreter": {
    "hash": "369f2c481f4da34e4445cda3fffd2e751bd1c4d706f27375911949ba6bb62e1c"
   }
  }
 },
 "nbformat": 4,
 "nbformat_minor": 2
}
