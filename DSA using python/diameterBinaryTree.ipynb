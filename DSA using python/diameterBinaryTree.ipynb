{
 "cells": [
  {
   "cell_type": "code",
   "execution_count": null,
   "metadata": {},
   "outputs": [],
   "source": [
    "# For a given Binary of type integer, find and return the ‘Diameter’.\n",
    "\n",
    "\n",
    "class BinaryTreeNode:\n",
    "    def __init__(self,data):\n",
    "        self.data = data\n",
    "        self.left = None\n",
    "        self.right = None\n",
    "        \n",
    "def treeInput():\n",
    "    rootData = int(input())\n",
    "    if rootData  == -1:\n",
    "        return None\n",
    "    root = BinaryTreeNode(rootData)\n",
    "    leftTree = treeInput()\n",
    "    rightTree = treeInput()\n",
    "    root.left = leftTree\n",
    "    root.right = rightTree\n",
    "    return root\n",
    "   \n",
    "\n",
    "def diameterOfBinaryTree(root):\n",
    "\n",
    "    if root is None:\n",
    "        return 0,0\n",
    "\n",
    "    lheight,ldiameter = diameterOfBinaryTree(root.left)\n",
    "    rheight,rdiameter = diameterOfBinaryTree(root.right)\n",
    "    height = max(lheight, rheight) + 1\n",
    "    return height,max(lheight+rheight+1, max(ldiameter, rdiameter))\n",
    "\n",
    "\n",
    "root = treeInput()\n",
    "diameterOfBinaryTree(root)"
   ]
  }
 ],
 "metadata": {
  "kernelspec": {
   "display_name": "Python 3",
   "language": "python",
   "name": "python3"
  },
  "language_info": {
   "name": "python",
   "version": "3.10.4"
  },
  "orig_nbformat": 4,
  "vscode": {
   "interpreter": {
    "hash": "369f2c481f4da34e4445cda3fffd2e751bd1c4d706f27375911949ba6bb62e1c"
   }
  }
 },
 "nbformat": 4,
 "nbformat_minor": 2
}
