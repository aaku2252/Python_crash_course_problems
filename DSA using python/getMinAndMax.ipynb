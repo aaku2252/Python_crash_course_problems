{
 "cells": [
  {
   "cell_type": "code",
   "execution_count": null,
   "metadata": {},
   "outputs": [],
   "source": [
    "# For a given a Binary Tree of type integer, find and return the minimum and the maximum data values.\n",
    "# Return the output as an object of Pair class, which is already created.\n",
    "\n",
    "class BinaryTreeNode:\n",
    "    def __init__(self, data):\n",
    "        self.data = data\n",
    "        self.left = None\n",
    "        self.right = None\n",
    "\n",
    "\n",
    "class Pair :\n",
    "\n",
    "    def __init__(self, minimum, maximum) :\n",
    "        self.minimum = minimum\n",
    "        self.maximum = maximum\n",
    "\n",
    "\n",
    "\n",
    "def getMinAndMax(root):\n",
    "    if root is None:\n",
    "        return Pair(100000,0)\n",
    "    left = getMinAndMax(root.left)\n",
    "    minLeft,maxLeft = left.minimum,left.maximum\n",
    "    right = getMinAndMax(root.right)\n",
    "    minRight,maxRight = right.minimum,right.maximum\n",
    "    return Pair(min(minLeft,minRight,root.data),max(maxLeft,maxRight,root.data))\n",
    "\n",
    "def treeInput():\n",
    "    rootData = int(input())\n",
    "    if rootData  == -1:\n",
    "        return None\n",
    "    root = BinaryTreeNode(rootData)\n",
    "    leftTree = treeInput()\n",
    "    rightTree = treeInput()\n",
    "    root.left = leftTree\n",
    "    root.right = rightTree\n",
    "    return root\n",
    "\n",
    "root = treeInput()\n",
    "pair = getMinAndMax(root)\n",
    "\n",
    "print(pair.minimum,pair.maximum) "
   ]
  }
 ],
 "metadata": {
  "kernelspec": {
   "display_name": "Python 3",
   "language": "python",
   "name": "python3"
  },
  "language_info": {
   "name": "python",
   "version": "3.10.4"
  },
  "orig_nbformat": 4,
  "vscode": {
   "interpreter": {
    "hash": "369f2c481f4da34e4445cda3fffd2e751bd1c4d706f27375911949ba6bb62e1c"
   }
  }
 },
 "nbformat": 4,
 "nbformat_minor": 2
}
