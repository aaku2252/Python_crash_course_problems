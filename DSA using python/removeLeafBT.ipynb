{
 "cells": [
  {
   "cell_type": "code",
   "execution_count": null,
   "metadata": {},
   "outputs": [],
   "source": [
    "class BinaryTreeNode:\n",
    "    def __init__(self,data):\n",
    "        self.data = data\n",
    "        self.left = None\n",
    "        self.right = None\n",
    "        \n",
    "def treeInput():\n",
    "    rootData = int(input())\n",
    "    if rootData  == -1:\n",
    "        return None\n",
    "    root = BinaryTreeNode(rootData)\n",
    "    leftTree = treeInput()\n",
    "    rightTree = treeInput()\n",
    "    root.left = leftTree\n",
    "    root.right = rightTree\n",
    "    return root\n",
    "        \n",
    "def removeLeaf(node):\n",
    "    if node is None:\n",
    "        return None\n",
    "    if node.left ==None and node.right ==None:\n",
    "        return None\n",
    "    node.left = removeLeaf(node.left)\n",
    "    node.right = removeLeaf(node.right)\n",
    "    return node\n",
    "\n",
    "def printBinaryTree(node):\n",
    "    if node is None:\n",
    "        return\n",
    "    print(node.data,':',end = ' ')\n",
    "    if node.right is not None:\n",
    "        print('L-',node.left.data,end = ' ')\n",
    "    if node.right is not None:\n",
    "        print('R-',node.right.data,end = '')\n",
    "    print()\n",
    "    printBinaryTree(node.left)\n",
    "    printBinaryTree(node.right)\n",
    "    \n",
    "root = treeInput()\n",
    "root = removeLeaf(root)\n",
    "printBinaryTree(root)\n",
    "    "
   ]
  }
 ],
 "metadata": {
  "kernelspec": {
   "display_name": "Python 3",
   "language": "python",
   "name": "python3"
  },
  "language_info": {
   "name": "python",
   "version": "3.10.4"
  },
  "orig_nbformat": 4,
  "vscode": {
   "interpreter": {
    "hash": "369f2c481f4da34e4445cda3fffd2e751bd1c4d706f27375911949ba6bb62e1c"
   }
  }
 },
 "nbformat": 4,
 "nbformat_minor": 2
}
