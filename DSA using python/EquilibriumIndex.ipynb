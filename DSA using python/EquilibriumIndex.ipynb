{
 "cells": [
  {
   "cell_type": "code",
   "execution_count": 1,
   "metadata": {},
   "outputs": [
    {
     "name": "stdout",
     "output_type": "stream",
     "text": [
      "-1\n"
     ]
    }
   ],
   "source": [
    "def arrayEquilibriumIndex(arr,n):\n",
    "    if n==0:\n",
    "        return -1\n",
    "    mid = n//2\n",
    "    left = 0\n",
    "    right = 0\n",
    "    for i in range(mid):\n",
    "        left+=arr[i]\n",
    "    for i in range(mid+1,len(arr)):\n",
    "        right+=arr[i]\n",
    "     \n",
    "     \n",
    "    while left<right:\n",
    "        right =right-arr[mid+1]\n",
    "        left+=arr[mid]\n",
    "        mid  = mid +1   \n",
    "    while right<left:\n",
    "        left = left-arr[mid-1]\n",
    "        right+=arr[mid]\n",
    "        mid = mid -1\n",
    "    if left == right:\n",
    "        print(mid)\n",
    "    else:\n",
    "        print(-1)\n",
    "\n",
    "    \n",
    "arrayEquilibriumIndex([1,5,9,7,5,3,6,4,8,2],10)"
   ]
  }
 ],
 "metadata": {
  "kernelspec": {
   "display_name": "Python 3",
   "language": "python",
   "name": "python3"
  },
  "language_info": {
   "codemirror_mode": {
    "name": "ipython",
    "version": 3
   },
   "file_extension": ".py",
   "mimetype": "text/x-python",
   "name": "python",
   "nbconvert_exporter": "python",
   "pygments_lexer": "ipython3",
   "version": "3.10.4"
  },
  "orig_nbformat": 4,
  "vscode": {
   "interpreter": {
    "hash": "369f2c481f4da34e4445cda3fffd2e751bd1c4d706f27375911949ba6bb62e1c"
   }
  }
 },
 "nbformat": 4,
 "nbformat_minor": 2
}
