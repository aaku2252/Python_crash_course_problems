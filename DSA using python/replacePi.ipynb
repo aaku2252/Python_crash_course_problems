{
 "cells": [
  {
   "cell_type": "code",
   "execution_count": null,
   "metadata": {},
   "outputs": [],
   "source": [
    "def removeX(string):\n",
    "    if len(string)==0 or len(string)==1:\n",
    "        return ''\n",
    "    if string[0:2]=='pi' :        \n",
    "        return '3.14'+removeX(string[2:])\n",
    "    else:\n",
    "        return string[0]+removeX(string[1:])\n",
    "\n",
    "    \n",
    "    \n",
    "\n",
    "print(removeX('aspippidefxpipi'))"
   ]
  }
 ],
 "metadata": {
  "kernelspec": {
   "display_name": "Python 3",
   "language": "python",
   "name": "python3"
  },
  "language_info": {
   "name": "python",
   "version": "3.10.4 (tags/v3.10.4:9d38120, Mar 23 2022, 23:13:41) [MSC v.1929 64 bit (AMD64)]"
  },
  "orig_nbformat": 4,
  "vscode": {
   "interpreter": {
    "hash": "369f2c481f4da34e4445cda3fffd2e751bd1c4d706f27375911949ba6bb62e1c"
   }
  }
 },
 "nbformat": 4,
 "nbformat_minor": 2
}
