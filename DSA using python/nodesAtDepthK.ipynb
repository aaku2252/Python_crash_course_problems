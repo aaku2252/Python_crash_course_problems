{
 "cells": [
  {
   "cell_type": "code",
   "execution_count": null,
   "metadata": {},
   "outputs": [],
   "source": [
    "#print all the roots at depth K. Where K is the depth we provide to the function\n",
    "\n",
    "\n",
    "class BinaryTreeNode:\n",
    "    def __init__(self,data):\n",
    "        self.data = data\n",
    "        self.left = None\n",
    "        self.right = None\n",
    "                 \n",
    "    \n",
    "def treeinput():\n",
    "    rootData = int(input())\n",
    "    if rootData  == -1:\n",
    "        return None\n",
    "    root = BinaryTreeNode(rootData)\n",
    "    leftTree = treeinput()\n",
    "    rightTree = treeinput()\n",
    "    root.left = leftTree\n",
    "    root.right = rightTree\n",
    "    return root \n",
    "\n",
    "\n",
    "# def nodesAtDepthK(root,k):\n",
    "#     if  root is None:\n",
    "#         return\n",
    "#     if k==0:\n",
    "#         print(root.data)\n",
    "#         return\n",
    "#     nodesAtDepthK(root.left,k-1)\n",
    "#     nodesAtDepthK(root.right,k-1) \n",
    "    \n",
    "def nodesAtDepthK(root,k,d=0):\n",
    "    if root is None:\n",
    "        return\n",
    "    if k ==d:\n",
    "        print(root.data)\n",
    "        return\n",
    "    nodesAtDepthK(root.left,k,d+1)\n",
    "    nodesAtDepthK(root.right,k,d+1)\n",
    "    \n",
    "\n",
    "root = treeinput()\n",
    "k = 2\n",
    "nodesAtDepthK(root,k)"
   ]
  }
 ],
 "metadata": {
  "language_info": {
   "name": "python"
  },
  "orig_nbformat": 4
 },
 "nbformat": 4,
 "nbformat_minor": 2
}
