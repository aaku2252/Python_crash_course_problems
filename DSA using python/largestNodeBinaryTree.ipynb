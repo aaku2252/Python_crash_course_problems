{
 "cells": [
  {
   "cell_type": "code",
   "execution_count": null,
   "metadata": {},
   "outputs": [],
   "source": [
    "# largest Node in a binary tree\n",
    "\n",
    "class BinaryTreeNode:\n",
    "    def __init__(self,data):\n",
    "        self.data = data\n",
    "        self.left = None\n",
    "        self.right = None\n",
    "                 \n",
    "    \n",
    "def treeinput():\n",
    "    rootData = int(input())\n",
    "    if rootData  == -1:\n",
    "        return None\n",
    "    root = BinaryTreeNode(rootData)\n",
    "    leftTree = treeinput()\n",
    "    rightTree = treeinput()\n",
    "    root.left = leftTree\n",
    "    root.right = rightTree\n",
    "    return root \n",
    "\n",
    "\n",
    "def largestNode(root):\n",
    "    if root == -1 or  root is None:\n",
    "        return -1\n",
    "    leftLargest = largestNode(root.left)\n",
    "    rightLargest = largestNode(root.right)\n",
    "    largest = max(leftLargest, rightLargest,root.data)\n",
    "    return largest\n",
    "    \n",
    "\n",
    "root = treeinput()\n",
    "print('Largest of Nodes is:',largestNode(root))"
   ]
  }
 ],
 "metadata": {
  "language_info": {
   "name": "python"
  },
  "orig_nbformat": 4
 },
 "nbformat": 4,
 "nbformat_minor": 2
}
