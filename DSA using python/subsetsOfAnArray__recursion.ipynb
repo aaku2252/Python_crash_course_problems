{
 "cells": [
  {
   "cell_type": "code",
   "execution_count": null,
   "metadata": {},
   "outputs": [],
   "source": [
    "def all_subsets(arr):\n",
    "    n = len(arr)\n",
    "    if n == 0:\n",
    "        return [[]]  # return an empty list as the only subset of an empty list is the empty list\n",
    "    else:\n",
    "        subsets = all_subsets(arr[1:])\n",
    "        return subsets + [[arr[0]] + subset for subset in subsets]\n",
    "\n",
    "# Reading input from user\n",
    "n = int(input())\n",
    "arr = list(map(int, input().split()))\n",
    "\n",
    "# Calling the function and printing the result\n",
    "subsets = all_subsets(arr)\n",
    "for subset in subsets:\n",
    "    print(*subset)"
   ]
  }
 ],
 "metadata": {
  "language_info": {
   "name": "python"
  },
  "orig_nbformat": 4
 },
 "nbformat": 4,
 "nbformat_minor": 2
}
