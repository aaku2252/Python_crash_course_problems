{
 "cells": [
  {
   "cell_type": "code",
   "execution_count": 1,
   "metadata": {},
   "outputs": [
    {
     "name": "stdout",
     "output_type": "stream",
     "text": [
      "2 3 4 5 6 8\n"
     ]
    }
   ],
   "source": [
    "# Sort an array A using Merge Sort.\n",
    "# Change in the input array itself. So no need to return or print anything.\n",
    "# Input format :\n",
    "# Line 1 : Integer n i.e. Array size\n",
    "# Line 2 : Array elements (separated by space)\n",
    "# Output format :\n",
    "# Array elements in increasing order (separated by space)\n",
    "\n",
    "\n",
    "def mergeSorted(a1,a2,a):\n",
    "    i= 0\n",
    "    j = 0\n",
    "    k =0\n",
    "    while len(a1)>i and len(a2)>j:\n",
    "        if a1[i]>a2[j]:\n",
    "            a[k] = a2[j]\n",
    "            k+=1\n",
    "            j+=1\n",
    "        elif a1[i]<a2[j]:\n",
    "            a[k] =a1[i]\n",
    "            k+=1\n",
    "            i+=1\n",
    "    while len(a1)>i:\n",
    "        a[k] = a1[i]\n",
    "        k+=1\n",
    "        i+=1\n",
    "    while len(a2)>j:\n",
    "        a[k] = a2[j]\n",
    "        k+=1\n",
    "        j+=1\n",
    "    \n",
    "    \n",
    "def mergeSort(arr):\n",
    "    if len(arr) == 0 or len(arr) == 1:\n",
    "        return\n",
    "    mid = len(arr)//2\n",
    "    a1 = arr[:mid]\n",
    "    a2 = arr[mid:]\n",
    "    mergeSort(a1)\n",
    "    mergeSort(a2)  \n",
    "    \n",
    "    \n",
    "    mergeSorted(a1,a2,arr)\n",
    "    \n",
    "    \n",
    "\n",
    "\n",
    "arr = [2,6,8,5,4,3]\n",
    "n = len(arr)\n",
    "mergeSort(arr)\n",
    "print(*arr)\n",
    "    "
   ]
  }
 ],
 "metadata": {
  "kernelspec": {
   "display_name": "Python 3",
   "language": "python",
   "name": "python3"
  },
  "language_info": {
   "codemirror_mode": {
    "name": "ipython",
    "version": 3
   },
   "file_extension": ".py",
   "mimetype": "text/x-python",
   "name": "python",
   "nbconvert_exporter": "python",
   "pygments_lexer": "ipython3",
   "version": "3.10.4"
  },
  "orig_nbformat": 4,
  "vscode": {
   "interpreter": {
    "hash": "369f2c481f4da34e4445cda3fffd2e751bd1c4d706f27375911949ba6bb62e1c"
   }
  }
 },
 "nbformat": 4,
 "nbformat_minor": 2
}
