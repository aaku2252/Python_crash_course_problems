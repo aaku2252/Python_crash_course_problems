{
 "cells": [
  {
   "cell_type": "code",
   "execution_count": null,
   "metadata": {},
   "outputs": [],
   "source": [
    "n = int(input())\n",
    "arr = list(map(int, input().split()))\n",
    "\n",
    "def print_subsets(arr):\n",
    "    n = len(arr)\n",
    "    for i in range(2**n):\n",
    "        subset = []\n",
    "        for j in range(n):\n",
    "            if i & (1<<j):\n",
    "                subset.append(arr[j])\n",
    "        print(*subset)\n",
    "\n",
    "print_subsets(arr)"
   ]
  }
 ],
 "metadata": {
  "language_info": {
   "name": "python"
  },
  "orig_nbformat": 4
 },
 "nbformat": 4,
 "nbformat_minor": 2
}
