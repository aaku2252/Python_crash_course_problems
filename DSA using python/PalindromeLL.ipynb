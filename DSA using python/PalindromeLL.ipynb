{
 "cells": [
  {
   "cell_type": "code",
   "execution_count": null,
   "metadata": {},
   "outputs": [],
   "source": [
    "def isPalindrome(head):\n",
    "    if head is None:\n",
    "        return True\n",
    "\n",
    "    slow = fast = head\n",
    "    stack = []\n",
    "    while fast is not None and fast.next is not None:\n",
    "        stack.append(slow.data)\n",
    "        slow = slow.next\n",
    "        fast = fast.next.next\n",
    "\n",
    "    if fast is not None:\n",
    "        slow = slow.next\n",
    "\n",
    "    while slow is not None:\n",
    "        if slow.data != stack.pop():\n",
    "            return False\n",
    "        slow = slow.next\n",
    "\n",
    "    return True"
   ]
  }
 ],
 "metadata": {
  "language_info": {
   "name": "python"
  },
  "orig_nbformat": 4
 },
 "nbformat": 4,
 "nbformat_minor": 2
}
