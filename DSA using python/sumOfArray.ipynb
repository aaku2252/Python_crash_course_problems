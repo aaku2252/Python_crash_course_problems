{
 "cells": [
  {
   "cell_type": "code",
   "execution_count": 1,
   "metadata": {},
   "outputs": [
    {
     "data": {
      "text/plain": [
       "14"
      ]
     },
     "execution_count": 1,
     "metadata": {},
     "output_type": "execute_result"
    }
   ],
   "source": [
    "# Given an array of length N, you need to find and return the sum of all elements of the array.\n",
    "# Do this recursively.\n",
    "# Input Format :\n",
    "# Line 1 : An Integer N i.e. size of array\n",
    "# Line 2 : N integers which are elements of the array, separated by spaces\n",
    "# Output Format :\n",
    "# Sum\n",
    "\n",
    "\n",
    "def sumOfArray(arr):\n",
    "    if len(arr)==0:\n",
    "        return\n",
    "    if len(arr)==1:\n",
    "        return arr[0]\n",
    "    output = arr[0]+sumOfArray(arr[1:])\n",
    "    return output\n",
    "\n",
    "sumOfArray([4,3,7])"
   ]
  }
 ],
 "metadata": {
  "kernelspec": {
   "display_name": "Python 3",
   "language": "python",
   "name": "python3"
  },
  "language_info": {
   "codemirror_mode": {
    "name": "ipython",
    "version": 3
   },
   "file_extension": ".py",
   "mimetype": "text/x-python",
   "name": "python",
   "nbconvert_exporter": "python",
   "pygments_lexer": "ipython3",
   "version": "3.10.4"
  },
  "orig_nbformat": 4,
  "vscode": {
   "interpreter": {
    "hash": "369f2c481f4da34e4445cda3fffd2e751bd1c4d706f27375911949ba6bb62e1c"
   }
  }
 },
 "nbformat": 4,
 "nbformat_minor": 2
}
