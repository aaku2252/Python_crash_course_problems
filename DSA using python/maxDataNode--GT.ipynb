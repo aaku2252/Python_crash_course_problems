{
 "cells": [
  {
   "cell_type": "code",
   "execution_count": null,
   "metadata": {},
   "outputs": [],
   "source": [
    "class TreeNode:\n",
    "    def __init__(self, data):\n",
    "        self.data = data\n",
    "        self.children = []\n",
    "\n",
    "def max_data_node(root):\n",
    "    if root is None:\n",
    "        return None\n",
    "    \n",
    "    max_data = root.data\n",
    "    \n",
    "    for child in root.children:\n",
    "        child_max = max_data_node(child)\n",
    "        if child_max > max_data:\n",
    "            max_data = child_max\n",
    "    \n",
    "    return max_data\n"
   ]
  }
 ],
 "metadata": {
  "language_info": {
   "name": "python"
  },
  "orig_nbformat": 4
 },
 "nbformat": 4,
 "nbformat_minor": 2
}
