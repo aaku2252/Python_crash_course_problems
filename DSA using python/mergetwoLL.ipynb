{
 "cells": [
  {
   "cell_type": "code",
   "execution_count": null,
   "metadata": {},
   "outputs": [],
   "source": [
    "class Node :\n",
    "    def __init__(self, data) :\n",
    "        self.data = data\n",
    "        self.next = None\n",
    "        \n",
    "def mergeTwoSortedLinkedLists(head1, head2):\n",
    "    dummy = Node(0)\n",
    "    curr = dummy\n",
    "    while head1 and head2:\n",
    "        if head1.data < head2.data:\n",
    "            curr.next = head1\n",
    "            head1 = head1.next\n",
    "        else:\n",
    "            curr.next = head2\n",
    "            head2 = head2.next\n",
    "        curr = curr.next\n",
    "    curr.next = head1 if head1 else head2\n",
    "    return dummy.next"
   ]
  }
 ],
 "metadata": {
  "language_info": {
   "name": "python"
  },
  "orig_nbformat": 4
 },
 "nbformat": 4,
 "nbformat_minor": 2
}
