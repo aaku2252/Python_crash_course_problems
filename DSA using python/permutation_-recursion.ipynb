{
 "cells": [
  {
   "cell_type": "code",
   "execution_count": null,
   "metadata": {},
   "outputs": [],
   "source": [
    "def permutations(s):\n",
    "    if len(s) == 0:\n",
    "        return ['']\n",
    "    else:\n",
    "        result = []\n",
    "        for i in range(len(s)):\n",
    "            remaining = s[:i] + s[i+1:]\n",
    "            for perm in permutations(remaining):\n",
    "                result.append(s[i] + perm)\n",
    "        return result\n",
    "\n",
    "\n",
    "string = input()\n",
    "ans = permutations(string)\n",
    "for s in ans:\n",
    "    print(s)"
   ]
  }
 ],
 "metadata": {
  "language_info": {
   "name": "python"
  },
  "orig_nbformat": 4
 },
 "nbformat": 4,
 "nbformat_minor": 2
}
