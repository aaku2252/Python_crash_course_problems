{
 "cells": [
  {
   "cell_type": "code",
   "execution_count": 57,
   "metadata": {},
   "outputs": [
    {
     "data": {
      "text/plain": [
       "2"
      ]
     },
     "execution_count": 57,
     "metadata": {},
     "output_type": "execute_result"
    }
   ],
   "source": [
    "# Given an integer N, count and return the number of zeros that are present in the given integer using recursion.\n",
    "# Input Format :\n",
    "# Integer N\n",
    "# Output Format :\n",
    "# Number of zeros in N\n",
    "\n",
    "def countZeros(n):\n",
    "    if n//10==0 and n !=0:\n",
    "        return 0\n",
    "    elif n==0 :\n",
    "        return 1\n",
    "    \n",
    "    elif n%10 ==0 :\n",
    "        return 1+countZeros(n//10)\n",
    "    elif  n%10!=0  :\n",
    "        return 0+ countZeros(n//10)\n",
    "     \n",
    "n = int(input())\n",
    "countZeros(n)"
   ]
  }
 ],
 "metadata": {
  "kernelspec": {
   "display_name": "Python 3",
   "language": "python",
   "name": "python3"
  },
  "language_info": {
   "codemirror_mode": {
    "name": "ipython",
    "version": 3
   },
   "file_extension": ".py",
   "mimetype": "text/x-python",
   "name": "python",
   "nbconvert_exporter": "python",
   "pygments_lexer": "ipython3",
   "version": "3.10.4"
  },
  "orig_nbformat": 4,
  "vscode": {
   "interpreter": {
    "hash": "369f2c481f4da34e4445cda3fffd2e751bd1c4d706f27375911949ba6bb62e1c"
   }
  }
 },
 "nbformat": 4,
 "nbformat_minor": 2
}
