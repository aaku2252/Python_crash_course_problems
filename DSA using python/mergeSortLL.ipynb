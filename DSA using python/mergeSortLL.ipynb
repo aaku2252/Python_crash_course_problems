{
 "cells": [
  {
   "cell_type": "code",
   "execution_count": null,
   "metadata": {},
   "outputs": [],
   "source": [
    "class Node :\n",
    "    def __init__(self, data) :\n",
    "        self.data = data\n",
    "        self.next = None\n",
    "\n",
    "\n",
    "def mergeSort(head):\n",
    "    if not head or not head.next:\n",
    "        return head\n",
    "\n",
    "    # divide the list into two halves\n",
    "    slow = head\n",
    "    fast = head\n",
    "    prev = None\n",
    "    while fast and fast.next:\n",
    "        prev = slow\n",
    "        slow = slow.next\n",
    "        fast = fast.next.next\n",
    "    prev.next = None\n",
    "\n",
    "    # sort the two halves\n",
    "    left = mergeSort(head)\n",
    "    right = mergeSort(slow)\n",
    "\n",
    "    # merge the two sorted halves\n",
    "    return merge(left, right)\n",
    "\n",
    "\n",
    "def merge(left, right):\n",
    "    dummy = Node(0)\n",
    "    curr = dummy\n",
    "    while left and right:\n",
    "        if left.data <= right.data:\n",
    "            curr.next = left\n",
    "            left = left.next\n",
    "        else:\n",
    "            curr.next = right\n",
    "            right = right.next\n",
    "        curr = curr.next\n",
    "    if left:\n",
    "        curr.next = left\n",
    "    if right:\n",
    "        curr.next = right\n",
    "    return dummy.next"
   ]
  }
 ],
 "metadata": {
  "language_info": {
   "name": "python"
  },
  "orig_nbformat": 4
 },
 "nbformat": 4,
 "nbformat_minor": 2
}
