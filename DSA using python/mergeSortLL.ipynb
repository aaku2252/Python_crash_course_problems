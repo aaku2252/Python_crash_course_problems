{
 "cells": [
  {
   "cell_type": "code",
   "execution_count": null,
   "metadata": {},
   "outputs": [],
   "source": [
    "class Node :\n",
    "    def __init__(self, data) :\n",
    "        self.data = data\n",
    "        self.next = None\n",
    "        \n",
    "def takeInput(arr) :\n",
    "    head = None\n",
    "    tail = None\n",
    "\n",
    "    datas = arr\n",
    "\n",
    "    i = 0\n",
    "    while (i < len(datas)) and (datas[i] != -1) :\n",
    "        data = datas[i]\n",
    "        newNode = Node(data)\n",
    "\n",
    "        if head is None :\n",
    "            head = newNode\n",
    "            tail = newNode\n",
    "\n",
    "        else :\n",
    "            tail.next = newNode\n",
    "            tail = newNode\n",
    "\n",
    "        i += 1\n",
    "\n",
    "    return head\n",
    "\n",
    "def printLL(head):\n",
    "    while head is not None:\n",
    "        print(head.data,end=\" \")\n",
    "        head = head.next\n",
    "    print()\n",
    "\n",
    "\n",
    "\n",
    "def mergeLL(head1,head2):\n",
    "    finalHead = None\n",
    "    finalTail = None\n",
    "\n",
    "    if head1.data<head2.data:\n",
    "        finalHead =finalTail= head1\n",
    "        head1 = head1.next \n",
    "    else:\n",
    "        finalHead =finalTail= head2\n",
    "        head2 = head2.next\n",
    "    \n",
    "    while head1 is not None and head2 is not None:\n",
    "        if head1.data<head2.data:\n",
    "            finalTail.next = head1\n",
    "            finalTail = head1\n",
    "            head1 = head1.next\n",
    "        else:\n",
    "            finalTail.next = head2\n",
    "            finalTail = head2\n",
    "            head2 = head2.next\n",
    "            \n",
    "    finalTail.next = head1 if head1 else head2            \n",
    "    return finalHead\n",
    "\n",
    "\n",
    "head1 = takeInput([10,20,30,40,50,-1])\n",
    "head2 = takeInput([11,23,46,55,70,-1])\n",
    "head = mergeLL(head1,head2)\n",
    "printLL(head)"
   ]
  }
 ],
 "metadata": {
  "kernelspec": {
   "display_name": "Python 3",
   "language": "python",
   "name": "python3"
  },
  "language_info": {
   "name": "python",
   "version": "3.10.4"
  },
  "orig_nbformat": 4,
  "vscode": {
   "interpreter": {
    "hash": "369f2c481f4da34e4445cda3fffd2e751bd1c4d706f27375911949ba6bb62e1c"
   }
  }
 },
 "nbformat": 4,
 "nbformat_minor": 2
}
