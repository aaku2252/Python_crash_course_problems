{
 "cells": [
  {
   "cell_type": "code",
   "execution_count": 18,
   "metadata": {},
   "outputs": [
    {
     "name": "stdout",
     "output_type": "stream",
     "text": [
      "1.87500\n"
     ]
    }
   ],
   "source": [
    "# Given k, find the geometric sum i.e.\n",
    "# 1 + 1/2 + 1/4 + 1/8 + ... + 1/(2^k) \n",
    "# using recursion.\n",
    "# Input format :\n",
    "# Integer k\n",
    "# Output format :\n",
    "# Geometric sum (upto 5 decimal places)\n",
    "\n",
    "k =int(input())\n",
    "def geometricSum(k):\n",
    "    if k ==0:\n",
    "        return round(1,6)\n",
    "    return geometricSum(k-1) +1/2**k\n",
    "print(\"{:.5f}\".format(geometricSum(k)))"
   ]
  }
 ],
 "metadata": {
  "kernelspec": {
   "display_name": "Python 3",
   "language": "python",
   "name": "python3"
  },
  "language_info": {
   "codemirror_mode": {
    "name": "ipython",
    "version": 3
   },
   "file_extension": ".py",
   "mimetype": "text/x-python",
   "name": "python",
   "nbconvert_exporter": "python",
   "pygments_lexer": "ipython3",
   "version": "3.10.4"
  },
  "orig_nbformat": 4,
  "vscode": {
   "interpreter": {
    "hash": "369f2c481f4da34e4445cda3fffd2e751bd1c4d706f27375911949ba6bb62e1c"
   }
  }
 },
 "nbformat": 4,
 "nbformat_minor": 2
}
