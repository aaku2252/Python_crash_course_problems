{
 "cells": [
  {
   "cell_type": "code",
   "execution_count": null,
   "metadata": {},
   "outputs": [],
   "source": [
    "def keypad_helper(prefix, remaining_digits, digit_to_chars, output):\n",
    "    if len(remaining_digits) == 0:\n",
    "        output.append(prefix)\n",
    "        return\n",
    "    first_digit_chars = digit_to_chars[remaining_digits[0]]\n",
    "    for char in first_digit_chars:\n",
    "        new_prefix = prefix + char\n",
    "        new_remaining_digits = remaining_digits[1:]\n",
    "        keypad_helper(new_prefix, new_remaining_digits, digit_to_chars, output)\n",
    "\n",
    "def keypad(n):\n",
    "    digit_to_chars = {\n",
    "        '2': 'abc',\n",
    "        '3': 'def',\n",
    "        '4': 'ghi',\n",
    "        '5': 'jkl',\n",
    "        '6': 'mno',\n",
    "        '7': 'pqrs',\n",
    "        '8': 'tuv',\n",
    "        '9': 'wxyz'\n",
    "    }\n",
    "    output = []\n",
    "    keypad_helper('', n, digit_to_chars, output)\n",
    "    for s in output:\n",
    "        print(s)\n",
    "\n",
    "n = input().strip()\n",
    "keypad(n)"
   ]
  }
 ],
 "metadata": {
  "language_info": {
   "name": "python"
  },
  "orig_nbformat": 4
 },
 "nbformat": 4,
 "nbformat_minor": 2
}
