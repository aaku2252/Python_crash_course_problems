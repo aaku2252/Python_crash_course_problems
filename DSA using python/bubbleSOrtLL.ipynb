{
 "cells": [
  {
   "cell_type": "code",
   "execution_count": null,
   "metadata": {},
   "outputs": [],
   "source": [
    "def bubbleSort(head):\n",
    "    if not head:\n",
    "        return None\n",
    "    swapped = True\n",
    "    while swapped:\n",
    "        current = head\n",
    "        swapped = False\n",
    "        while current.next:\n",
    "            if current.data > current.next.data:\n",
    "                current.data, current.next.data = current.next.data, current.data\n",
    "                swapped = True\n",
    "            current = current.next\n",
    "    return head"
   ]
  }
 ],
 "metadata": {
  "language_info": {
   "name": "python"
  },
  "orig_nbformat": 4
 },
 "nbformat": 4,
 "nbformat_minor": 2
}
