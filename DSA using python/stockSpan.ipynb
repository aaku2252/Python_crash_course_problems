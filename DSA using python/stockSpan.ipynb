{
 "cells": [
  {
   "cell_type": "code",
   "execution_count": null,
   "metadata": {},
   "outputs": [],
   "source": [
    "def stockSpan(stockPrice,n):\n",
    "    stack_span = [1]*n\n",
    "    for i in range(1,n):\n",
    "        j = i-1\n",
    "        while j>=0 and stockPrice[i] >stockPrice[j]:\n",
    "            j -=1\n",
    "            stack_span[i]+=1\n",
    "\n",
    "    return stack_span\n",
    "\n",
    "    \n",
    "    \n",
    "    \n",
    "stockSpan([60, 70, 80, 100, 90, 75, 80, 120],8)\n",
    "    "
   ]
  },
  {
   "cell_type": "code",
   "execution_count": null,
   "metadata": {},
   "outputs": [],
   "source": [
    "def stockSpan(stock_prices,n):\n",
    "    stack = []\n",
    "    stock_spans = [0] * n\n",
    "    \n",
    "    for i in range(n):\n",
    "        while stack and stock_prices[i] >= stock_prices[stack[-1]]:\n",
    "            stack.pop()\n",
    "        if stack:\n",
    "            stock_spans[i] = i - stack[-1]\n",
    "        else:\n",
    "            stock_spans[i] = i + 1\n",
    "        stack.append(i)\n",
    "    return stock_spans\n",
    "\n",
    "stockSpan([60, 70, 80, 50,60],5)"
   ]
  }
 ],
 "metadata": {
  "kernelspec": {
   "display_name": "Python 3",
   "language": "python",
   "name": "python3"
  },
  "language_info": {
   "codemirror_mode": {
    "name": "ipython",
    "version": 3
   },
   "file_extension": ".py",
   "mimetype": "text/x-python",
   "name": "python",
   "nbconvert_exporter": "python",
   "pygments_lexer": "ipython3",
   "version": "3.10.4"
  },
  "orig_nbformat": 4,
  "vscode": {
   "interpreter": {
    "hash": "369f2c481f4da34e4445cda3fffd2e751bd1c4d706f27375911949ba6bb62e1c"
   }
  }
 },
 "nbformat": 4,
 "nbformat_minor": 2
}
