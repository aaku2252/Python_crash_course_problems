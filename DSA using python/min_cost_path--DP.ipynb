{
 "cells": [
  {
   "cell_type": "code",
   "execution_count": null,
   "metadata": {},
   "outputs": [],
   "source": [
    "def min_cost_path(matrix, m, n):\n",
    "    # create a 2-D array to store the minimum cost to reach each cell\n",
    "    dp = [[0 for j in range(n)] for i in range(m)]\n",
    "    \n",
    "    # fill the first row and first column of the dp array\n",
    "    dp[0][0] = matrix[0][0]\n",
    "    for i in range(1, m):\n",
    "        dp[i][0] = dp[i-1][0] + matrix[i][0]\n",
    "    for j in range(1, n):\n",
    "        dp[0][j] = dp[0][j-1] + matrix[0][j]\n",
    "    \n",
    "    # fill the remaining cells of the dp array\n",
    "    for i in range(1, m):\n",
    "        for j in range(1, n):\n",
    "            dp[i][j] = matrix[i][j] + min(dp[i-1][j], dp[i][j-1], dp[i-1][j-1])\n",
    "    \n",
    "    # return the minimum cost to reach the last cell\n",
    "    return dp[m-1][n-1]\n",
    "\n",
    "# main\n",
    "m, n = map(int, input().split())\n",
    "matrix = []\n",
    "for i in range(m):\n",
    "    row = list(map(int, input().split()))\n",
    "    matrix.append(row)\n",
    "print(min_cost_path(matrix, m, n))\n"
   ]
  }
 ],
 "metadata": {
  "language_info": {
   "name": "python"
  },
  "orig_nbformat": 4
 },
 "nbformat": 4,
 "nbformat_minor": 2
}
