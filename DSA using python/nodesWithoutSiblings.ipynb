{
 "cells": [
  {
   "cell_type": "code",
   "execution_count": null,
   "metadata": {},
   "outputs": [],
   "source": [
    "# For a given Binary Tree of type integer, print all the nodes without any siblings.\n",
    "# The only line of output prints the node data in a top to down fashion with reference to the root. \n",
    "# Node data in the left subtree will be printed first and then the right subtree.\n",
    "# A single space will separate them all.\n",
    "\n",
    "class BinaryTreeNode:\n",
    "    def __init__(self,data):\n",
    "        self.data = data\n",
    "        self.left = None\n",
    "        self.right = None\n",
    "                 \n",
    "    \n",
    "def treeinput():\n",
    "    rootData = int(input())\n",
    "    if rootData  == -1:\n",
    "        return None\n",
    "    root = BinaryTreeNode(rootData)\n",
    "    leftTree = treeinput()\n",
    "    rightTree = treeinput()\n",
    "    root.left = leftTree\n",
    "    root.right = rightTree\n",
    "    return root \n",
    "\n",
    "\n",
    "    \n",
    "def printNodesWithoutSibling(root):\n",
    "    if root is None or root ==-1:\n",
    "        return None\n",
    "    if root.left and not root.right:\n",
    "        print(root.left.data,end = ' ')\n",
    "    elif not root.left and root.right:\n",
    "        print(root.right.data,end = ' ')\n",
    "        \n",
    "    printNodesWithoutSibling(root.left)\n",
    "    printNodesWithoutSibling(root.right)\n",
    "    \n",
    "    \n",
    "    \n",
    "    \n",
    "\n",
    "root = treeinput()\n",
    "printNodesWithoutSibling(root)"
   ]
  }
 ],
 "metadata": {
  "kernelspec": {
   "display_name": "Python 3",
   "language": "python",
   "name": "python3"
  },
  "language_info": {
   "name": "python",
   "version": "3.10.4"
  },
  "orig_nbformat": 4,
  "vscode": {
   "interpreter": {
    "hash": "369f2c481f4da34e4445cda3fffd2e751bd1c4d706f27375911949ba6bb62e1c"
   }
  }
 },
 "nbformat": 4,
 "nbformat_minor": 2
}
