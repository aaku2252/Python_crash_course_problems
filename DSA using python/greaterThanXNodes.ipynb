{
 "cells": [
  {
   "cell_type": "code",
   "execution_count": null,
   "metadata": {},
   "outputs": [],
   "source": [
    "# For a given a binary tree of integers and an integer X, find and return the total number of nodes of the given binary tree which are having data greater than X.\n",
    "\n",
    "\n",
    "class BinaryTreeNode:\n",
    "    def __init__(self,data):\n",
    "        self.data = data\n",
    "        self.left = None\n",
    "        self.right = None\n",
    "                 \n",
    "    \n",
    "def treeinput():\n",
    "    rootData = int(input())\n",
    "    if rootData  == -1:\n",
    "        return None\n",
    "    root = BinaryTreeNode(rootData)\n",
    "    leftTree = treeinput()\n",
    "    rightTree = treeinput()\n",
    "    root.left = leftTree\n",
    "    root.right = rightTree\n",
    "    return root \n",
    "\n",
    "\n",
    "def countNodesGreaterThanX(root, x) :\n",
    "    if root ==-1 or root is None :\n",
    "        return 0\n",
    "    count = 0\n",
    "    if root.data >x:\n",
    "        count+=1        \n",
    "    leftCount = countNodesGreaterThanX(root.left, x)\n",
    "    rightCount = countNodesGreaterThanX(root.right,x)\n",
    "    return leftCount + rightCount +count\n",
    "    \n",
    "\n",
    "root = treeinput()\n",
    "x = 1\n",
    "print(f'Nodes greater than {x}:',countNodesGreaterThanX(root,x))"
   ]
  }
 ],
 "metadata": {
  "kernelspec": {
   "display_name": "Python 3",
   "language": "python",
   "name": "python3"
  },
  "language_info": {
   "name": "python",
   "version": "3.10.4"
  },
  "orig_nbformat": 4,
  "vscode": {
   "interpreter": {
    "hash": "369f2c481f4da34e4445cda3fffd2e751bd1c4d706f27375911949ba6bb62e1c"
   }
  }
 },
 "nbformat": 4,
 "nbformat_minor": 2
}
