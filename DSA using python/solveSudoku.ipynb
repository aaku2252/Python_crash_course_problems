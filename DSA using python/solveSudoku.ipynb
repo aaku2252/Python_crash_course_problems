{
 "cells": [
  {
   "cell_type": "code",
   "execution_count": null,
   "metadata": {},
   "outputs": [],
   "source": [
    "def solveSudoku(board):\n",
    "    # Check rows\n",
    "    for i in range(9):\n",
    "        row_set = set()\n",
    "        for j in range(9):\n",
    "            if board[i][j] != 0 and board[i][j] in row_set:\n",
    "                return False\n",
    "            row_set.add(board[i][j])\n",
    "\n",
    "    # Check columns\n",
    "    for j in range(9):\n",
    "        col_set = set()\n",
    "        for i in range(9):\n",
    "            if board[i][j] != 0 and board[i][j] in col_set:\n",
    "                return False\n",
    "            col_set.add(board[i][j])\n",
    "\n",
    "    # Check subgrids\n",
    "    for i in range(0, 9, 3):\n",
    "        for j in range(0, 9, 3):\n",
    "            subgrid_set = set()\n",
    "            for k in range(3):\n",
    "                for l in range(3):\n",
    "                    if board[i+k][j+l] != 0 and board[i+k][j+l] in subgrid_set:\n",
    "                        return False\n",
    "                    subgrid_set.add(board[i+k][j+l])\n",
    "\n",
    "    return True\n",
    "\n",
    "board = [[ int(ele) for ele in input().split() ]for i in range(9)]\n",
    "ans = solveSudoku(board)\n",
    "if ans is True:\n",
    "    print('true')\n",
    "else:\n",
    "    print('false')"
   ]
  }
 ],
 "metadata": {
  "language_info": {
   "name": "python"
  },
  "orig_nbformat": 4
 },
 "nbformat": 4,
 "nbformat_minor": 2
}
