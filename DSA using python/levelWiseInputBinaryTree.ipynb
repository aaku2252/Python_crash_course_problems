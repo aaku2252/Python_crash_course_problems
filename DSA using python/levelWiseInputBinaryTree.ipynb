{
 "cells": [
  {
   "cell_type": "code",
   "execution_count": null,
   "metadata": {},
   "outputs": [],
   "source": [
    "import queue\n",
    "\n",
    "class BinaryTreeNode:\n",
    "    def __init__(self,data):\n",
    "        self.data = data\n",
    "        self.left = None\n",
    "        self.right = None\n",
    "        \n",
    "def printLevelWise(root):\n",
    "    q = queue.Queue()\n",
    "    q.put(root)\n",
    "    while not q.empty():\n",
    "        node = q.get()\n",
    "        print(f'{node.data}:',end = '')\n",
    "        if node.left is not None:\n",
    "            if node.left.data !=-1:\n",
    "                q.put(node.left)\n",
    "        if node.left is None:\n",
    "            node1 = -1\n",
    "        else:\n",
    "            node1 = node.left.data\n",
    "        print(f'L:{node1}',end = ',')\n",
    "        if node.right is not None:\n",
    "            if node.right.data !=-1:\n",
    "                q.put(node.right)\n",
    "        if node.right is None:\n",
    "            node2 = -1\n",
    "        else:\n",
    "            node2 = node.right.data\n",
    "        print(f'R:{node2}',end = '')\n",
    "        print()\n",
    "    \n",
    "    \n",
    "    \n",
    "def levelWiseTreeInput():\n",
    "    q = queue.Queue()\n",
    "    print('Enter root')\n",
    "    rootData = int(input())\n",
    "    if rootData == -1:\n",
    "        return None\n",
    "    root = BinaryTreeNode(rootData)\n",
    "    q.put(root)\n",
    "    while not q.empty():\n",
    "        curr_node = q.get()\n",
    "        print('Enter the left child of',curr_node.data)\n",
    "        leftChildData = int(input())\n",
    "        if leftChildData != -1:\n",
    "            leftChild = BinaryTreeNode(leftChildData)\n",
    "            curr_node.left = leftChild\n",
    "            q.put(leftChild)\n",
    "            \n",
    "        print('Enter the right child of',curr_node.data)\n",
    "        rightChildData = int(input())\n",
    "        if rightChildData != -1:\n",
    "            rightChild = BinaryTreeNode(rightChildData)\n",
    "            curr_node.right = rightChild\n",
    "            q.put(rightChild)\n",
    "            \n",
    "    return root\n",
    "\n",
    "root = levelWiseTreeInput()\n",
    "printLevelWise(root)\n",
    "\n",
    "    "
   ]
  }
 ],
 "metadata": {
  "kernelspec": {
   "display_name": "Python 3",
   "language": "python",
   "name": "python3"
  },
  "language_info": {
   "name": "python",
   "version": "3.10.4"
  },
  "orig_nbformat": 4,
  "vscode": {
   "interpreter": {
    "hash": "369f2c481f4da34e4445cda3fffd2e751bd1c4d706f27375911949ba6bb62e1c"
   }
  }
 },
 "nbformat": 4,
 "nbformat_minor": 2
}
