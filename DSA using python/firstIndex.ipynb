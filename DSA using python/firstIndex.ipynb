{
 "cells": [
  {
   "cell_type": "code",
   "execution_count": 5,
   "metadata": {},
   "outputs": [
    {
     "data": {
      "text/plain": [
       "-1"
      ]
     },
     "execution_count": 5,
     "metadata": {},
     "output_type": "execute_result"
    }
   ],
   "source": [
    "# Given an array of length N and an integer x, you need to find and return the first index of integer x present in the array. Return -1 if it is not present in the array.\n",
    "# First index means, the index of first occurrence of x in the input array.\n",
    "# Do this recursively. Indexing in the array starts from 0.\n",
    "# Input Format :\n",
    "# Line 1 : An Integer N i.e. size of array\n",
    "# Line 2 : N integers which are elements of the array, separated by spaces\n",
    "# Line 3 : Integer x\n",
    "# Output Format :\n",
    "# first index or -1\n",
    "\n",
    "\n",
    "def firstIndex(arr,x,idx = 0):\n",
    "    if   idx ==len(arr):\n",
    "        return -1\n",
    "    if arr[idx]==x: \n",
    "        return idx\n",
    "    output= firstIndex(arr,x,idx+1)\n",
    "    return output\n",
    " \n",
    "\n",
    "firstIndex([],5)"
   ]
  }
 ],
 "metadata": {
  "kernelspec": {
   "display_name": "Python 3",
   "language": "python",
   "name": "python3"
  },
  "language_info": {
   "codemirror_mode": {
    "name": "ipython",
    "version": 3
   },
   "file_extension": ".py",
   "mimetype": "text/x-python",
   "name": "python",
   "nbconvert_exporter": "python",
   "pygments_lexer": "ipython3",
   "version": "3.10.4 (tags/v3.10.4:9d38120, Mar 23 2022, 23:13:41) [MSC v.1929 64 bit (AMD64)]"
  },
  "orig_nbformat": 4,
  "vscode": {
   "interpreter": {
    "hash": "369f2c481f4da34e4445cda3fffd2e751bd1c4d706f27375911949ba6bb62e1c"
   }
  }
 },
 "nbformat": 4,
 "nbformat_minor": 2
}
