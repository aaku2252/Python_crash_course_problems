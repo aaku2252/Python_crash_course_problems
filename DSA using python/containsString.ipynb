{
 "cells": [
  {
   "cell_type": "code",
   "execution_count": null,
   "metadata": {},
   "outputs": [],
   "source": [
    "def contains(s,t):\n",
    "    if len(s) == 0:\n",
    "        return False\n",
    "    if len(t) ==0:\n",
    "        return True\n",
    "    tindex = 0\n",
    "    index = -1\n",
    "    if t[tindex] in s:\n",
    "        if index>s.index(t[tindex]):\n",
    "            return False\n",
    "        else:\n",
    "            index = s.index(t[tindex])\n",
    "    else: \n",
    "        return False\n",
    "    val = contains(s[index:],t[tindex+1:])\n",
    "    return val\n",
    "        \n",
    "    \n",
    "\n",
    "s = input()\n",
    "t = input()\n",
    "\n",
    "ans = contains(s,t)\n",
    "if ans is True:\n",
    "    print('true')\n",
    "else:\n",
    "    print('false')"
   ]
  }
 ],
 "metadata": {
  "kernelspec": {
   "display_name": "Python 3",
   "language": "python",
   "name": "python3"
  },
  "language_info": {
   "name": "python",
   "version": "3.10.4 (tags/v3.10.4:9d38120, Mar 23 2022, 23:13:41) [MSC v.1929 64 bit (AMD64)]"
  },
  "orig_nbformat": 4,
  "vscode": {
   "interpreter": {
    "hash": "369f2c481f4da34e4445cda3fffd2e751bd1c4d706f27375911949ba6bb62e1c"
   }
  }
 },
 "nbformat": 4,
 "nbformat_minor": 2
}
