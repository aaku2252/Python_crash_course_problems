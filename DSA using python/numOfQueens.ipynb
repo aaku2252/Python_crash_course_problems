{
 "cells": [
  {
   "cell_type": "code",
   "execution_count": null,
   "metadata": {},
   "outputs": [],
   "source": [
    "def is_valid(board, row, col):\n",
    "    n = len(board)\n",
    "    # check if there is any queen in the same column\n",
    "    for i in range(row):\n",
    "        if board[i][col] == 1:\n",
    "            return False\n",
    "    # check if there is any queen in the upper left diagonal\n",
    "    for i, j in zip(range(row-1, -1, -1), range(col-1, -1, -1)):\n",
    "        if board[i][j] == 1:\n",
    "            return False\n",
    "    # check if there is any queen in the upper right diagonal\n",
    "    for i, j in zip(range(row-1, -1, -1), range(col+1, n)):\n",
    "        if board[i][j] == 1:\n",
    "            return False\n",
    "    return True\n",
    "\n",
    "def n_queens_helper(board, row, res):\n",
    "    n = len(board)\n",
    "    if row == n:\n",
    "        # found a valid configuration, add to result\n",
    "        for i in range(n):\n",
    "            for j in range(n):\n",
    "                print(board[i][j], end=' ')\n",
    "        print()\n",
    "        res.append([board[i][:] for i in range(n)])\n",
    "        return\n",
    "    # try to place a queen in each column of current row\n",
    "    for col in range(n):\n",
    "        if is_valid(board, row, col):\n",
    "            board[row][col] = 1\n",
    "            n_queens_helper(board, row+1, res)\n",
    "            board[row][col] = 0\n",
    "\n",
    "def n_queens(n):\n",
    "    board = [[0] * n for _ in range(n)]\n",
    "    res = []\n",
    "    n_queens_helper(board, 0, res)\n",
    "    return res\n",
    "\n",
    "n = int(input())\n",
    "n_queens(n)"
   ]
  }
 ],
 "metadata": {
  "language_info": {
   "name": "python"
  },
  "orig_nbformat": 4
 },
 "nbformat": 4,
 "nbformat_minor": 2
}
