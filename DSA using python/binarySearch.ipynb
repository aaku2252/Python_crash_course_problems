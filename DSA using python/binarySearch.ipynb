{
 "cells": [
  {
   "cell_type": "code",
   "execution_count": 35,
   "metadata": {},
   "outputs": [
    {
     "data": {
      "text/plain": [
       "13"
      ]
     },
     "execution_count": 35,
     "metadata": {},
     "output_type": "execute_result"
    }
   ],
   "source": [
    "# binarySearch using recursion method\n",
    "def binarySearch(a,x,si,ei):\n",
    "    if si>ei: \n",
    "        return -1\n",
    "    \n",
    "    mi = (si+ei)//2\n",
    "    if a[mi]==x: \n",
    "        return mi\n",
    "    elif a[mi]>x: \n",
    "        return binarySearch(a,x,si,mi-1)\n",
    "    else:\n",
    "        return binarySearch(a,x,mi+1,ei)\n",
    "\n",
    "arr = [1,3,4,5,6,7,8,9,10,11,12,13,14,15,16,18]\n",
    "n = len(arr)\n",
    "binarySearch(arr,15,0,n)"
   ]
  }
 ],
 "metadata": {
  "kernelspec": {
   "display_name": "Python 3",
   "language": "python",
   "name": "python3"
  },
  "language_info": {
   "codemirror_mode": {
    "name": "ipython",
    "version": 3
   },
   "file_extension": ".py",
   "mimetype": "text/x-python",
   "name": "python",
   "nbconvert_exporter": "python",
   "pygments_lexer": "ipython3",
   "version": "3.10.4 (tags/v3.10.4:9d38120, Mar 23 2022, 23:13:41) [MSC v.1929 64 bit (AMD64)]"
  },
  "orig_nbformat": 4,
  "vscode": {
   "interpreter": {
    "hash": "369f2c481f4da34e4445cda3fffd2e751bd1c4d706f27375911949ba6bb62e1c"
   }
  }
 },
 "nbformat": 4,
 "nbformat_minor": 2
}
