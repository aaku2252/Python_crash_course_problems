{
 "cells": [
  {
   "cell_type": "code",
   "execution_count": null,
   "metadata": {},
   "outputs": [],
   "source": [
    "def subsetsSumK(arr, k):\n",
    "    n = len(arr)\n",
    "    # Base case\n",
    "    if n == 0:\n",
    "        if k == 0:\n",
    "            return [[]]\n",
    "        else:\n",
    "            return []\n",
    "    # Recursive case\n",
    "    first = arr[0]\n",
    "    rest = arr[1:]\n",
    "    # Include the first element\n",
    "    with_first = subsetsSumK(rest, k - first)\n",
    "    with_first = [[first] + subset for subset in with_first]\n",
    "    # Exclude the first element\n",
    "    without_first = subsetsSumK(rest, k)\n",
    "    # Combine the two cases\n",
    "    return with_first + without_first\n",
    "\n",
    "\n",
    "\n",
    "\n",
    "\n",
    "#taking input\n",
    "def takeInput() :\n",
    "    n = int(input().strip())\n",
    "\n",
    "    if n == 0 :\n",
    "        return list(), 0\n",
    "\n",
    "    arr = [int(element) for element in list(input().strip().split(\" \"))]\n",
    "    return arr, n\n",
    "\n",
    "\n",
    "#printing the list of lists\n",
    "def printListOfList(liOfLi) :\n",
    "    for li in liOfLi :\n",
    "        for elem in li :\n",
    "            print(elem, end = \" \")\n",
    "        print()\n",
    "\n",
    "#main\n",
    "arr, n = takeInput()\n",
    "\n",
    "if n != 0 :\n",
    "    k = int(input().strip())\n",
    "    li = subsetsSumK(arr, k)\n",
    "\n",
    "    printListOfList(li)"
   ]
  }
 ],
 "metadata": {
  "language_info": {
   "name": "python"
  },
  "orig_nbformat": 4
 },
 "nbformat": 4,
 "nbformat_minor": 2
}
