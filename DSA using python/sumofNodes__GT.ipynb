{
 "cells": [
  {
   "cell_type": "code",
   "execution_count": null,
   "metadata": {},
   "outputs": [],
   "source": [
    "class TreeNode:\n",
    "    def __init__(self, data):\n",
    "        self.data = data\n",
    "        self.children = []\n",
    "\n",
    "def sum_of_nodes(root):\n",
    "    if not root:\n",
    "        return 0\n",
    "\n",
    "    # calculate the sum of nodes in the current level\n",
    "    total_sum = root.data\n",
    "\n",
    "    # calculate the sum of nodes in the child levels\n",
    "    for child in root.children:\n",
    "        total_sum += sum_of_nodes(child)\n",
    "\n",
    "    return total_sum\n",
    "\n",
    "# level-order input\n",
    "def build_generic_tree(arr):\n",
    "    root = TreeNode(int(arr[0]))\n",
    "    n = len(arr)\n",
    "    i = 1\n",
    "    q = []\n",
    "    q.append(root)\n",
    "\n",
    "    while len(q) > 0 and i < n:\n",
    "        curr_node = q.pop(0)\n",
    "\n",
    "        num_children = int(arr[i])\n",
    "        i += 1\n",
    "\n",
    "        for j in range(num_children):\n",
    "            child_node = TreeNode(int(arr[i]))\n",
    "            i += 1\n",
    "            curr_node.children.append(child_node)\n",
    "            q.append(child_node)\n",
    "\n",
    "    return root\n",
    "\n",
    "# Example usage\n",
    "arr = input().split()\n",
    "root = build_generic_tree(arr)\n",
    "print(sum_of_nodes(root))\n"
   ]
  }
 ],
 "metadata": {
  "language_info": {
   "name": "python"
  },
  "orig_nbformat": 4
 },
 "nbformat": 4,
 "nbformat_minor": 2
}
