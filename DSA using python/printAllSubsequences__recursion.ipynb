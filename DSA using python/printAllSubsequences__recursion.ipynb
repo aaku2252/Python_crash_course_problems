{
 "cells": [
  {
   "cell_type": "code",
   "execution_count": null,
   "metadata": {},
   "outputs": [],
   "source": [
    "def subsequences(s):\n",
    "    if len(s) == 0:\n",
    "        return ['']\n",
    "    \n",
    "    smallerOutput = subsequences(s[1:])\n",
    "    output = []\n",
    "    for sub in smallerOutput:\n",
    "        output.append(sub)\n",
    "    for sub in smallerOutput:\n",
    "        output.append(s[0] + sub)\n",
    "    \n",
    "    return output\n",
    "\n",
    "s = input()\n",
    "subs = subsequences(s)\n",
    "for sub in subs:\n",
    "    print(sub)\n"
   ]
  }
 ],
 "metadata": {
  "language_info": {
   "name": "python"
  },
  "orig_nbformat": 4
 },
 "nbformat": 4,
 "nbformat_minor": 2
}
