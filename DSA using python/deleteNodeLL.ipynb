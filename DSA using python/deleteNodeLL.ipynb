{
 "cells": [
  {
   "cell_type": "code",
   "execution_count": null,
   "metadata": {},
   "outputs": [],
   "source": [
    "def deleteNodeRec(head, pos):\n",
    "    if head is None:\n",
    "        return None\n",
    "    if pos == 0:\n",
    "        return head.next\n",
    "    head.next = deleteNodeRec(head.next, pos - 1)\n",
    "    return head\n",
    "\n",
    "def deleteNode(head, pos):\n",
    "    if head is None:\n",
    "        return\n",
    "    index = 0\n",
    "    current = head\n",
    "    while current.next and index < pos:\n",
    "        previous = current\n",
    "        current = current.next\n",
    "        index += 1\n",
    "    if index < pos:\n",
    "        return\n",
    "    elif index == 0:\n",
    "        head = head.next\n",
    "    else:\n",
    "        previous.next = current.next\n",
    "    return head\n",
    "\n"
   ]
  }
 ],
 "metadata": {
  "language_info": {
   "name": "python"
  },
  "orig_nbformat": 4
 },
 "nbformat": 4,
 "nbformat_minor": 2
}
