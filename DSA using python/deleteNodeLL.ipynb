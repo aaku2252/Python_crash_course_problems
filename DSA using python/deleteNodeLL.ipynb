{
 "cells": [
  {
   "cell_type": "code",
   "execution_count": null,
   "metadata": {},
   "outputs": [],
   "source": [
    "class Node :\n",
    "    def __init__(self, data) :\n",
    "        self.data = data\n",
    "        self.next = None\n",
    "\n",
    "def printLL(head):\n",
    "    while head is not None:\n",
    "        print(str(head.data), end = ' ')\n",
    "        head = head.next\n",
    "    return\n",
    "\n",
    "def deleteNode(head, pos):\n",
    "    if head is None or pos < 0:\n",
    "        return head\n",
    "    elif pos == 0:\n",
    "        head = head.next\n",
    "        return head\n",
    "\n",
    "    i = 0\n",
    "    prev = None\n",
    "    curr = head\n",
    "    while i < pos:\n",
    "        if curr.next is None:\n",
    "            return head\n",
    "        prev = curr\n",
    "        curr = curr.next\n",
    "        i += 1\n",
    "    if curr.next is not None:\n",
    "        prev.next = curr.next\n",
    "        return head\n",
    "    else:\n",
    "        prev.next = None\n",
    "        return head\n",
    "\n",
    "\n",
    "\n",
    "node1 = Node(10)\n",
    "node2 = Node(20)\n",
    "node3 = Node(30)\n",
    "node4 = Node(40)\n",
    "node1.next = node2\n",
    "node2.next = node3\n",
    "node3.next = node4\n",
    "newNode = deleteNode(node1,0)\n",
    "printLL(newNode)\n",
    "\n"
   ]
  }
 ],
 "metadata": {
  "kernelspec": {
   "display_name": "Python 3",
   "language": "python",
   "name": "python3"
  },
  "language_info": {
   "name": "python",
   "version": "3.10.4"
  },
  "orig_nbformat": 4,
  "vscode": {
   "interpreter": {
    "hash": "369f2c481f4da34e4445cda3fffd2e751bd1c4d706f27375911949ba6bb62e1c"
   }
  }
 },
 "nbformat": 4,
 "nbformat_minor": 2
}
