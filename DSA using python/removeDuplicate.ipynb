{
 "cells": [
  {
   "cell_type": "code",
   "execution_count": 6,
   "metadata": {},
   "outputs": [
    {
     "data": {
      "text/plain": [
       "'abpdrcda'"
      ]
     },
     "execution_count": 6,
     "metadata": {},
     "output_type": "execute_result"
    }
   ],
   "source": [
    "# Given a string S, remove consecutive duplicates from it recursively.\n",
    "# Input Format :\n",
    "# String S\n",
    "# Output Format :\n",
    "# Output string\n",
    "\n",
    "def removeDuplicates(s):\n",
    "    if len(s) ==0:\n",
    "        return -1\n",
    "    smallOutput = removeDuplicates(s[1:])\n",
    "    if smallOutput ==-1:\n",
    "        return s[0]\n",
    "    elif s[0]==smallOutput[0] :\n",
    "        return s[0]+smallOutput[1:]\n",
    "    else:\n",
    "        return s[0]+smallOutput\n",
    "\n",
    "removeDuplicates('aaaaabbbbppdrrccda')"
   ]
  }
 ],
 "metadata": {
  "kernelspec": {
   "display_name": "Python 3",
   "language": "python",
   "name": "python3"
  },
  "language_info": {
   "codemirror_mode": {
    "name": "ipython",
    "version": 3
   },
   "file_extension": ".py",
   "mimetype": "text/x-python",
   "name": "python",
   "nbconvert_exporter": "python",
   "pygments_lexer": "ipython3",
   "version": "3.10.4 (tags/v3.10.4:9d38120, Mar 23 2022, 23:13:41) [MSC v.1929 64 bit (AMD64)]"
  },
  "orig_nbformat": 4,
  "vscode": {
   "interpreter": {
    "hash": "369f2c481f4da34e4445cda3fffd2e751bd1c4d706f27375911949ba6bb62e1c"
   }
  }
 },
 "nbformat": 4,
 "nbformat_minor": 2
}
