{
 "cells": [
  {
   "cell_type": "code",
   "execution_count": 3,
   "metadata": {},
   "outputs": [
    {
     "name": "stdout",
     "output_type": "stream",
     "text": [
      "Height of the tree is 1\n"
     ]
    }
   ],
   "source": [
    "# For a given Binary Tree of integers, find and return the height of the tree.\n",
    "\n",
    "class BinaryTreeNode:\n",
    "    def __init__(self,data):\n",
    "        self.data = data\n",
    "        self.left = None\n",
    "        self.right = None\n",
    "\n",
    "def treeinput():\n",
    "    rootData = int(input())\n",
    "    if rootData  == -1:\n",
    "        return None\n",
    "    root = BinaryTreeNode(rootData)\n",
    "    leftTree = treeinput()\n",
    "    rightTree = treeinput()\n",
    "    root.left = leftTree\n",
    "    root.right = rightTree\n",
    "    return root \n",
    "\n",
    "\n",
    "def heightOftree(root):\n",
    "    if root ==-1 or root is None:\n",
    "        return 0    \n",
    "    leftHeight = heightOftree(root.left)\n",
    "    rightHeight = heightOftree(root.right)\n",
    "    return max(leftHeight,rightHeight)+1\n",
    "    \n",
    "\n",
    "root = treeinput()\n",
    "print('Height of the tree is',heightOftree(root))"
   ]
  }
 ],
 "metadata": {
  "kernelspec": {
   "display_name": "Python 3",
   "language": "python",
   "name": "python3"
  },
  "language_info": {
   "codemirror_mode": {
    "name": "ipython",
    "version": 3
   },
   "file_extension": ".py",
   "mimetype": "text/x-python",
   "name": "python",
   "nbconvert_exporter": "python",
   "pygments_lexer": "ipython3",
   "version": "3.10.4"
  },
  "orig_nbformat": 4,
  "vscode": {
   "interpreter": {
    "hash": "369f2c481f4da34e4445cda3fffd2e751bd1c4d706f27375911949ba6bb62e1c"
   }
  }
 },
 "nbformat": 4,
 "nbformat_minor": 2
}
