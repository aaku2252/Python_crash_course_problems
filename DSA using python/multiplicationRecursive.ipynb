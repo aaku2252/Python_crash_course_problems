{
 "cells": [
  {
   "cell_type": "code",
   "execution_count": null,
   "metadata": {},
   "outputs": [],
   "source": [
    "# Given two integers M & N, calculate and return their multiplication using recursion. You can only use subtraction and addition for your calculation. No other operators are allowed.\n",
    "# Input format :\n",
    "# Line 1 : Integer M\n",
    "# Line 2 : Integer N\n",
    "# Output format :\n",
    "# M x N\n",
    "\n",
    "\n",
    "def multiplication(m,n):\n",
    "    if n ==0:\n",
    "        return 0\n",
    "    return m + multiplication(m,n-1)\n",
    "\n",
    "\n",
    "m = int(input())\n",
    "n = int(input())\n",
    "print(multiplication(m,n))"
   ]
  },
  {
   "cell_type": "code",
   "execution_count": 1,
   "metadata": {},
   "outputs": [
    {
     "ename": "",
     "evalue": "",
     "output_type": "error",
     "traceback": [
      "\u001b[1;31mCanceled future for execute_request message before replies were done"
     ]
    },
    {
     "ename": "",
     "evalue": "",
     "output_type": "error",
     "traceback": [
      "\u001b[1;31mThe Kernel crashed while executing code in the the current cell or a previous cell. Please review the code in the cell(s) to identify a possible cause of the failure. Click <a href='https://aka.ms/vscodeJupyterKernelCrash'>here</a> for more info. View Jupyter <a href='command:jupyter.viewOutput'>log</a> for further details."
     ]
    }
   ],
   "source": [
    "def product( x , y ):\n",
    "\n",
    "    if x < y:\n",
    "        return product(y, x)\n",
    "     \n",
    "\n",
    "    elif y != 0:\n",
    "        return (x + product(x, y - 1))\n",
    "     \n",
    "\n",
    "    else:\n",
    "        return 0\n",
    "\n",
    "x = int(input())\n",
    "y = int(input())\n",
    "print( product(x, y))"
   ]
  }
 ],
 "metadata": {
  "kernelspec": {
   "display_name": "Python 3",
   "language": "python",
   "name": "python3"
  },
  "language_info": {
   "codemirror_mode": {
    "name": "ipython",
    "version": 3
   },
   "file_extension": ".py",
   "mimetype": "text/x-python",
   "name": "python",
   "nbconvert_exporter": "python",
   "pygments_lexer": "ipython3",
   "version": "3.10.4"
  },
  "orig_nbformat": 4,
  "vscode": {
   "interpreter": {
    "hash": "369f2c481f4da34e4445cda3fffd2e751bd1c4d706f27375911949ba6bb62e1c"
   }
  }
 },
 "nbformat": 4,
 "nbformat_minor": 2
}
