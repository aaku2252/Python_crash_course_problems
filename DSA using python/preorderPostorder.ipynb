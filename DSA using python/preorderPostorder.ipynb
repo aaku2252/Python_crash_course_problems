{
 "cells": [
  {
   "cell_type": "code",
   "execution_count": null,
   "metadata": {},
   "outputs": [],
   "source": [
    "class BinaryTreeNode:\n",
    "    def __init__(self,data):\n",
    "        self.data = data\n",
    "        self.left = None\n",
    "        self.right = None\n",
    "        \n",
    "        \n",
    "# Binary tree using preorder and inorder\n",
    "        \n",
    "# def buildTree(preorder, inorder):\n",
    "#     if not preorder or not inorder:\n",
    "#         return None\n",
    "#     root = BinaryTreeNode(preorder[0])\n",
    "#     root_index = inorder.index(preorder[0])\n",
    "\n",
    "#     root.left = buildTree(preorder[1:root_index+1], inorder[:root_index])\n",
    "#     root.right = buildTree(preorder[root_index+1:], inorder[root_index+1:])\n",
    "#     return root\n",
    "\n",
    "\n",
    "# Binary tree using postorder and inorder\n",
    "\n",
    "def buildTree(postorder, inorder):\n",
    "    if not postorder or not inorder:\n",
    "        return None\n",
    "    root = BinaryTreeNode(postorder[-1])\n",
    "    root_index = inorder.index(postorder[-1])\n",
    "\n",
    "    root.left = buildTree(postorder[:root_index], inorder[:root_index])\n",
    "    root.right = buildTree(postorder[root_index:-1], inorder[root_index+1:])\n",
    "    return root"
   ]
  }
 ],
 "metadata": {
  "kernelspec": {
   "display_name": "Python 3",
   "language": "python",
   "name": "python3"
  },
  "language_info": {
   "name": "python",
   "version": "3.10.4"
  },
  "orig_nbformat": 4,
  "vscode": {
   "interpreter": {
    "hash": "369f2c481f4da34e4445cda3fffd2e751bd1c4d706f27375911949ba6bb62e1c"
   }
  }
 },
 "nbformat": 4,
 "nbformat_minor": 2
}
