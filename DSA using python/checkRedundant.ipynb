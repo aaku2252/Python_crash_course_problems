{
 "cells": [
  {
   "cell_type": "code",
   "execution_count": 1,
   "metadata": {},
   "outputs": [
    {
     "data": {
      "text/plain": [
       "False"
      ]
     },
     "execution_count": 1,
     "metadata": {},
     "output_type": "execute_result"
    }
   ],
   "source": [
    "def checkRedundantBrackets(Str):\n",
    "    st = []\n",
    "    for ch in Str:\n",
    "        if (ch == ')'):\n",
    "            top = st[-1]\n",
    "            st.pop()\n",
    "            flag = True\n",
    "            while (top != '('):\n",
    "                if (top == '+' or top == '-' or\n",
    "                    top == '*' or top == '/'):\n",
    "                    flag = False\n",
    "                top = st[-1]\n",
    "                st.pop()\n",
    "            if (flag == True):\n",
    "                return True\n",
    " \n",
    "        else:\n",
    "            st.append(ch)\n",
    "    return False\n",
    "\n",
    "checkRedundantBrackets('(a+b)+c')"
   ]
  }
 ],
 "metadata": {
  "kernelspec": {
   "display_name": "Python 3",
   "language": "python",
   "name": "python3"
  },
  "language_info": {
   "codemirror_mode": {
    "name": "ipython",
    "version": 3
   },
   "file_extension": ".py",
   "mimetype": "text/x-python",
   "name": "python",
   "nbconvert_exporter": "python",
   "pygments_lexer": "ipython3",
   "version": "3.10.4"
  },
  "orig_nbformat": 4,
  "vscode": {
   "interpreter": {
    "hash": "369f2c481f4da34e4445cda3fffd2e751bd1c4d706f27375911949ba6bb62e1c"
   }
  }
 },
 "nbformat": 4,
 "nbformat_minor": 2
}
