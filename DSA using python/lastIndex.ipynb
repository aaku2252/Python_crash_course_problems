{
 "cells": [
  {
   "cell_type": "code",
   "execution_count": 42,
   "metadata": {},
   "outputs": [
    {
     "name": "stdout",
     "output_type": "stream",
     "text": [
      "10\n",
      "10\n"
     ]
    }
   ],
   "source": [
    "# Given an array of length N and an integer x, you need to find and return the last index of integer x present in the array. Return -1 if it is not present in the array.\n",
    "# Last index means - if x is present multiple times in the array, return the index at which x comes last in the array.\n",
    "# You should start traversing your array from 0, not from (N - 1).\n",
    "# Do this recursively. Indexing in the array starts from 0.\n",
    "# Input Format :\n",
    "# Line 1 : An Integer N i.e. size of array\n",
    "# Line 2 : N integers which are elements of the array, separated by spaces\n",
    "# Line 3 : Integer x\n",
    "# Output Format :\n",
    "# last index or -1\n",
    "\n",
    "\n",
    "\n",
    "\n",
    "# from last\n",
    "def lastIndex(arr,x,):\n",
    "    if   len(arr) ==0 :\n",
    "        return -1\n",
    "    if arr[-1]==x: \n",
    "        return len(arr)-1\n",
    "    output= lastIndex(arr[-2::-1],x)\n",
    "    \n",
    "    if output == -1:\n",
    "        return -1\n",
    "    else:\n",
    "        return len(arr)-output\n",
    "        \n",
    " \n",
    "\n",
    "print(lastIndex([1,9,1,2,3,4,5,6,7,8,9],9))\n",
    "\n",
    "# from start\n",
    "def lastStartIndex(arr,n,x):\n",
    "    if   n ==0 :\n",
    "        return -1\n",
    "\n",
    "    output= lastStartIndex(arr[1:],n-1,x)\n",
    "    \n",
    "    if  output == -1 and arr[0]!=x: \n",
    "        return -1\n",
    "    else:\n",
    "        return output+1\n",
    "\n",
    "n = int(input()) \n",
    "arr = [int(x) for x in input().split()]\n",
    "x = int(input()) \n",
    "\n",
    "\n",
    "print(lastStartIndex(arr,n,x))\n"
   ]
  }
 ],
 "metadata": {
  "kernelspec": {
   "display_name": "Python 3",
   "language": "python",
   "name": "python3"
  },
  "language_info": {
   "codemirror_mode": {
    "name": "ipython",
    "version": 3
   },
   "file_extension": ".py",
   "mimetype": "text/x-python",
   "name": "python",
   "nbconvert_exporter": "python",
   "pygments_lexer": "ipython3",
   "version": "3.10.4 (tags/v3.10.4:9d38120, Mar 23 2022, 23:13:41) [MSC v.1929 64 bit (AMD64)]"
  },
  "orig_nbformat": 4,
  "vscode": {
   "interpreter": {
    "hash": "369f2c481f4da34e4445cda3fffd2e751bd1c4d706f27375911949ba6bb62e1c"
   }
  }
 },
 "nbformat": 4,
 "nbformat_minor": 2
}
