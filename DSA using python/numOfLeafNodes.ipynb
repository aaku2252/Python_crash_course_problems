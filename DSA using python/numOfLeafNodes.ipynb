{
 "cells": [
  {
   "cell_type": "code",
   "execution_count": null,
   "metadata": {},
   "outputs": [],
   "source": [
    "class BinaryTreeNode:\n",
    "    def __init__(self,data):\n",
    "        self.data = data\n",
    "        self.left = None\n",
    "        self.right = None\n",
    "                 \n",
    "# It takes values for a node. It always put the values in left of a node first  then right.\n",
    "def treeinput():\n",
    "    rootData = int(input())\n",
    "    if rootData  == -1:\n",
    "        return None\n",
    "    root = BinaryTreeNode(rootData)\n",
    "    leftTree = treeinput()\n",
    "    rightTree = treeinput()\n",
    "    root.left = leftTree\n",
    "    root.right = rightTree\n",
    "    return root \n",
    "\n",
    "\n",
    "def numOfLeafNodes(root):\n",
    "    if root is None:\n",
    "        return 0\n",
    "    if root.left ==None and root.right ==None:\n",
    "        return 1\n",
    "    numLeftLeaf = numOfLeafNodes(root.left)\n",
    "    numRightLeaf = numOfLeafNodes(root.right)\n",
    "    return numLeftLeaf + numRightLeaf\n",
    "\n",
    "root = treeinput()\n",
    "print('Number of leaf Nodes is:',numOfLeafNodes(root))"
   ]
  }
 ],
 "metadata": {
  "kernelspec": {
   "display_name": "Python 3",
   "language": "python",
   "name": "python3"
  },
  "language_info": {
   "name": "python",
   "version": "3.10.4"
  },
  "orig_nbformat": 4,
  "vscode": {
   "interpreter": {
    "hash": "369f2c481f4da34e4445cda3fffd2e751bd1c4d706f27375911949ba6bb62e1c"
   }
  }
 },
 "nbformat": 4,
 "nbformat_minor": 2
}
