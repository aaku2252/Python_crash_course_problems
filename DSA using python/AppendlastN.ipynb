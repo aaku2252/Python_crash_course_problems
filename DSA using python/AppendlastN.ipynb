{
 "cells": [
  {
   "cell_type": "code",
   "execution_count": null,
   "metadata": {},
   "outputs": [],
   "source": [
    "def appendLastNToFirst(head, k):\n",
    "    if not head or not head.next:\n",
    "        return head\n",
    "\n",
    "    tail, n = head, 1\n",
    "    while tail.next:\n",
    "        tail = tail.next\n",
    "        n += 1\n",
    "\n",
    "    tail.next = head\n",
    "    k = n - k % n\n",
    "    for i in range(k):\n",
    "        tail = tail.next\n",
    "    head = tail.next\n",
    "    tail.next = None\n",
    "\n",
    "    return head"
   ]
  }
 ],
 "metadata": {
  "language_info": {
   "name": "python"
  },
  "orig_nbformat": 4
 },
 "nbformat": 4,
 "nbformat_minor": 2
}
