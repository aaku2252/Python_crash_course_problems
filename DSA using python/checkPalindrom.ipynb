{
 "cells": [
  {
   "cell_type": "code",
   "execution_count": null,
   "metadata": {},
   "outputs": [],
   "source": [
    "# check palindrome using recursion\n",
    "\n",
    "\n",
    "def checkPalindrome(n,start=0,end=0):\n",
    "    if start ==end:\n",
    "        return True\n",
    "    if n[start]==n[end]:    \n",
    "        return checkPalindrome(n,start+1,end-1)\n",
    "    else:\n",
    "        return False\n",
    "\n",
    "n = input()\n",
    "checked = checkPalindrome(n,0,len(n)-1)\n",
    "if checked :\n",
    "    print('true')\n",
    "else:\n",
    "    print('false')"
   ]
  }
 ],
 "metadata": {
  "kernelspec": {
   "display_name": "Python 3",
   "language": "python",
   "name": "python3"
  },
  "language_info": {
   "name": "python",
   "version": "3.10.4 (tags/v3.10.4:9d38120, Mar 23 2022, 23:13:41) [MSC v.1929 64 bit (AMD64)]"
  },
  "orig_nbformat": 4,
  "vscode": {
   "interpreter": {
    "hash": "369f2c481f4da34e4445cda3fffd2e751bd1c4d706f27375911949ba6bb62e1c"
   }
  }
 },
 "nbformat": 4,
 "nbformat_minor": 2
}
