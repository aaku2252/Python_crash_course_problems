{
 "cells": [
  {
   "cell_type": "code",
   "execution_count": 1,
   "metadata": {},
   "outputs": [
    {
     "name": "stdout",
     "output_type": "stream",
     "text": [
      "15\n"
     ]
    }
   ],
   "source": [
    "# Write a recursive function that returns the sum of the digits of a given integer.\n",
    "# Input format :\n",
    "# Integer N\n",
    "# Output format :\n",
    "# Sum of digits of N\n",
    "\n",
    "def sumOfDigits(n):\n",
    "    if len(n)==1:\n",
    "        return int(n[0])\n",
    "    return int(n[0]) +sumOfDigits(n[1:])\n",
    "    \n",
    "\n",
    "n = input()\n",
    "print(sumOfDigits(n))"
   ]
  },
  {
   "cell_type": "code",
   "execution_count": null,
   "metadata": {},
   "outputs": [],
   "source": [
    "def sumOfDigits(n):\n",
    "    \n",
    "    if n==0:\n",
    "        return 0\n",
    "    return (n%10 +sumOfDigits(n//10))\n",
    "\n",
    "\n",
    "n = int(input())\n",
    "sumOfDigits(n)"
   ]
  }
 ],
 "metadata": {
  "kernelspec": {
   "display_name": "Python 3",
   "language": "python",
   "name": "python3"
  },
  "language_info": {
   "codemirror_mode": {
    "name": "ipython",
    "version": 3
   },
   "file_extension": ".py",
   "mimetype": "text/x-python",
   "name": "python",
   "nbconvert_exporter": "python",
   "pygments_lexer": "ipython3",
   "version": "3.10.4"
  },
  "orig_nbformat": 4,
  "vscode": {
   "interpreter": {
    "hash": "369f2c481f4da34e4445cda3fffd2e751bd1c4d706f27375911949ba6bb62e1c"
   }
  }
 },
 "nbformat": 4,
 "nbformat_minor": 2
}
