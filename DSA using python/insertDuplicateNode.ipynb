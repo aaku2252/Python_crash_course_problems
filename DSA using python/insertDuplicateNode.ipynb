{
 "cells": [
  {
   "cell_type": "code",
   "execution_count": null,
   "metadata": {},
   "outputs": [],
   "source": [
    "# For a given a Binary Tree of type integer, duplicate every node of the tree and attach it to the left of itself.\n",
    "# The root will remain the same. So you just need to insert nodes in the given Binary Tree.\n",
    "\n",
    "\n",
    "\n",
    "\n",
    "class BinaryTreeNode:\n",
    "    def __init__(self,data):\n",
    "        self.data = data\n",
    "        self.left = None\n",
    "        self.right = None\n",
    "        \n",
    "def insertDuplicate(root):\n",
    "    if root is None:\n",
    "        return\n",
    "    temp = root.left\n",
    "    root.left = BinaryTreeNode(root.data)\n",
    "    \n",
    "    root.left.left = insertDuplicate(temp)\n",
    "    root.right = insertDuplicate(root.right)\n",
    "    return root"
   ]
  }
 ],
 "metadata": {
  "kernelspec": {
   "display_name": "Python 3",
   "language": "python",
   "name": "python3"
  },
  "language_info": {
   "name": "python",
   "version": "3.10.4"
  },
  "orig_nbformat": 4,
  "vscode": {
   "interpreter": {
    "hash": "369f2c481f4da34e4445cda3fffd2e751bd1c4d706f27375911949ba6bb62e1c"
   }
  }
 },
 "nbformat": 4,
 "nbformat_minor": 2
}
