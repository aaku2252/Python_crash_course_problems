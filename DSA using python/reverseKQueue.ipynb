{
 "cells": [
  {
   "cell_type": "code",
   "execution_count": null,
   "metadata": {},
   "outputs": [],
   "source": [
    "# For a given queue containing all integer data, reverse the first K elements.\n",
    "# You have been required to make the desired change in the input queue itself.\n",
    "\n",
    "\n",
    "from queue import Queue\n",
    " \n",
    "qu = queue.Queue()\n",
    "qu.put(2)\n",
    "qu.put(3)\n",
    "qu.put(4)\n",
    "qu.put(5)\n",
    "qu.put(6)\n",
    "qu.put(7)\n",
    "\n",
    "def reverseQueueFirstKElements(Queue,k):\n",
    "    if (Queue.empty() == True or\n",
    "            k > Queue.qsize()):\n",
    "        return\n",
    "    if (k <= 0):\n",
    "        return\n",
    " \n",
    "    Stack = []\n",
    "\n",
    "    for i in range(k):\n",
    "        Stack.append(Queue.queue[0])\n",
    "        Queue.get()\n",
    "    while (len(Stack) != 0):\n",
    "        Queue.put(Stack[-1])\n",
    "        Stack.pop()\n",
    "\n",
    "    for i in range(Queue.qsize() - k):\n",
    "        Queue.put(Queue.queue[0])\n",
    "        Queue.get()\n",
    "    \n",
    "    return Queue\n",
    "        \n",
    "a = reverseQueueFirstKElements(qu,3)"
   ]
  }
 ],
 "metadata": {
  "kernelspec": {
   "display_name": "Python 3",
   "language": "python",
   "name": "python3"
  },
  "language_info": {
   "name": "python",
   "version": "3.10.4"
  },
  "orig_nbformat": 4,
  "vscode": {
   "interpreter": {
    "hash": "369f2c481f4da34e4445cda3fffd2e751bd1c4d706f27375911949ba6bb62e1c"
   }
  }
 },
 "nbformat": 4,
 "nbformat_minor": 2
}
