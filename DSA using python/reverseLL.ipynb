{
 "cells": [
  {
   "cell_type": "code",
   "execution_count": 1,
   "metadata": {},
   "outputs": [
    {
     "name": "stdout",
     "output_type": "stream",
     "text": [
      "50 40 30 20 10 "
     ]
    }
   ],
   "source": [
    "class Node:\n",
    "    def __init__(self, data):\n",
    "        self.data = data\n",
    "        self.next = None\n",
    "\n",
    "def printLL(head):\n",
    "    while head is not None:\n",
    "        print(head.data,end=\" \")\n",
    "        head = head.next\n",
    "\n",
    "# def reverseLL(head):\n",
    "#     if not head  or not head.next:\n",
    "#         return head\n",
    "#     newHead = reverseLL(head.next)\n",
    "#     tail = newHead\n",
    "#     while tail.next is not None:\n",
    "#         tail = tail.next\n",
    "#     tail.next = head\n",
    "#     head.next = None\n",
    "#     return newHead\n",
    "\n",
    "# def reverseLL(head):\n",
    "#     if not head or not head.next:\n",
    "#         return head\n",
    "#     new_head = reverseLL(head.next)\n",
    "#     head.next.next = head\n",
    "#     head.next = None\n",
    "\n",
    "#     return new_head\n",
    "\n",
    "def reverseLL(head):\n",
    "    prev = None\n",
    "    curr = head\n",
    "    while curr is not None:\n",
    "        temp = curr.next\n",
    "        curr.next = prev\n",
    "        prev = curr\n",
    "        curr = temp\n",
    "    return prev\n",
    "    \n",
    "# def reverseLL(head):\n",
    "#     if not head  or not head.next:\n",
    "#         return head,head\n",
    "#     newHead,tail = reverseLL(head.next)\n",
    "#     tail.next = head\n",
    "#     head.next = None\n",
    "#     return newHead,head     \n",
    "\n",
    "node1 = Node(10)\n",
    "node2 = Node(20)\n",
    "node3 = Node(30)\n",
    "node4 = Node(40)\n",
    "node5 = Node(50)\n",
    "node1.next = node2\n",
    "node2.next = node3\n",
    "node3.next = node4\n",
    "node4.next = node5\n",
    "\n",
    "revVal= reverseLL(node1)\n",
    "printLL(revVal)"
   ]
  }
 ],
 "metadata": {
  "kernelspec": {
   "display_name": "Python 3",
   "language": "python",
   "name": "python3"
  },
  "language_info": {
   "codemirror_mode": {
    "name": "ipython",
    "version": 3
   },
   "file_extension": ".py",
   "mimetype": "text/x-python",
   "name": "python",
   "nbconvert_exporter": "python",
   "pygments_lexer": "ipython3",
   "version": "3.10.4"
  },
  "orig_nbformat": 4,
  "vscode": {
   "interpreter": {
    "hash": "369f2c481f4da34e4445cda3fffd2e751bd1c4d706f27375911949ba6bb62e1c"
   }
  }
 },
 "nbformat": 4,
 "nbformat_minor": 2
}
