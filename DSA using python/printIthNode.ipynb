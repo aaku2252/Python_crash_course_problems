{
 "cells": [
  {
   "cell_type": "code",
   "execution_count": null,
   "metadata": {},
   "outputs": [],
   "source": [
    "class Node :\n",
    "    def __init__(self, data) :\n",
    "        self.data = data\n",
    "        self.next = None\n",
    "\n",
    "\n",
    "def printIthNode(head, i):\n",
    "    if head is None:\n",
    "        return\n",
    "    \n",
    "    current = head\n",
    "    for _ in range(1,i):\n",
    "        if current is None:\n",
    "            return \n",
    "        elif current.next is None:\n",
    "            return\n",
    "        else:\n",
    "            current = current.next\n",
    "    print(current.data)\n",
    "\n",
    "node1 = Node(10)\n",
    "node2 = Node(20)\n",
    "node3 = Node(40)\n",
    "node4 = Node(50)\n",
    "node1.next = node2\n",
    "node2.next = node3\n",
    "node3.next = node4\n",
    "printIthNode(node1,4)"
   ]
  }
 ],
 "metadata": {
  "language_info": {
   "name": "python"
  },
  "orig_nbformat": 4
 },
 "nbformat": 4,
 "nbformat_minor": 2
}
