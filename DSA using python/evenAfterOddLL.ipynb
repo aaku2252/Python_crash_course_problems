{
 "cells": [
  {
   "cell_type": "code",
   "execution_count": null,
   "metadata": {},
   "outputs": [],
   "source": [
    "class Node :\n",
    "    def __init__(self, data) :\n",
    "        self.data = data\n",
    "        self.next = None\n",
    "        \n",
    "def takeInput(arr) :\n",
    "    head = None\n",
    "    tail = None\n",
    "\n",
    "    datas = arr\n",
    "\n",
    "    i = 0\n",
    "    while (i < len(datas)) and (datas[i] != -1) :\n",
    "        data = datas[i]\n",
    "        newNode = Node(data)\n",
    "\n",
    "        if head is None :\n",
    "            head = newNode\n",
    "            tail = newNode\n",
    "\n",
    "        else :\n",
    "            tail.next = newNode\n",
    "            tail = newNode\n",
    "\n",
    "        i += 1\n",
    "\n",
    "    return head\n",
    "\n",
    "def printLL(head):\n",
    "    while head is not None:\n",
    "        print(head.data,end=\" \")\n",
    "        head = head.next\n",
    "    print()\n",
    "\n",
    "def evenAfterOdd(head):\n",
    "    dummy_odd = odd = Node(0)\n",
    "    dummy_even = even = Node(0)\n",
    "    while head:\n",
    "        if head.data % 2 == 0:\n",
    "            even.next = head\n",
    "            even = even.next\n",
    "        else:\n",
    "            odd.next = head\n",
    "            odd = odd.next\n",
    "        head = head.next\n",
    "    odd.next = dummy_even.next\n",
    "    even.next = None\n",
    "    return dummy_odd.next\n",
    "      \n",
    "\n",
    "node = takeInput([10, 22, 10, 26, 11, 7, 8, 1, 23, 5, 1, 28, 0,5,3,4,5 ,-1])\n",
    "head = evenAfterOdd(node)\n",
    "printLL(head)"
   ]
  }
 ],
 "metadata": {
  "kernelspec": {
   "display_name": "Python 3",
   "language": "python",
   "name": "python3"
  },
  "language_info": {
   "name": "python",
   "version": "3.10.4"
  },
  "orig_nbformat": 4,
  "vscode": {
   "interpreter": {
    "hash": "369f2c481f4da34e4445cda3fffd2e751bd1c4d706f27375911949ba6bb62e1c"
   }
  }
 },
 "nbformat": 4,
 "nbformat_minor": 2
}
