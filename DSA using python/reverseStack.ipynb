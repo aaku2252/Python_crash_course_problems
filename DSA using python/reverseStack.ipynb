{
 "cells": [
  {
   "cell_type": "code",
   "execution_count": null,
   "metadata": {},
   "outputs": [],
   "source": [
    "# You have been given two stacks that can store integers as the data. Out of the two given stacks, one is populated and the other one is empty. You are required to write a function that reverses the populated stack using the one which is empty.\n",
    "\n",
    "\n",
    "def reverseStack(s1,s2):\n",
    "    if len(s1)<=1:\n",
    "        return\n",
    "    \n",
    "    while (len(s1)!=1):\n",
    "        ele= s1.pop()\n",
    "        s2.append(ele)\n",
    "    lastEl = s1.pop()\n",
    "    while(len(s2)!=0):\n",
    "        ele = s2.pop()\n",
    "        s1.append(ele)\n",
    "    reverseStack(s1,s2)\n",
    "    s1.append(lastEl)"
   ]
  }
 ],
 "metadata": {
  "language_info": {
   "name": "python"
  },
  "orig_nbformat": 4
 },
 "nbformat": 4,
 "nbformat_minor": 2
}
