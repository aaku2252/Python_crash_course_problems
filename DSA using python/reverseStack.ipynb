{
 "cells": [
  {
   "cell_type": "code",
   "execution_count": null,
   "metadata": {},
   "outputs": [],
   "source": [
    "# You have been given two stacks that can store integers as the data. Out of the two given stacks, one is populated and the other one is empty. You are required to write a function that reverses the populated stack using the one which is empty.\n",
    "\n",
    "\n",
    "def reverseStack(s1,s2):\n",
    "    if len(s1)<=1:\n",
    "        return\n",
    "    \n",
    "    while (len(s1)!=1):\n",
    "        ele= s1.pop()\n",
    "        s2.append(ele)\n",
    "    lastEl = s1.pop()\n",
    "    while(len(s2)!=0):\n",
    "        ele = s2.pop()\n",
    "        s1.append(ele)\n",
    "    reverseStack(s1,s2)\n",
    "    s1.append(lastEl)\n",
    "    \n",
    "s1 = [2, 8, 15, 1, 10]\n",
    "s2 = []\n",
    "\n",
    "reverseStack(s1,s2)\n",
    "print(s1)"
   ]
  }
 ],
 "metadata": {
  "kernelspec": {
   "display_name": "Python 3",
   "language": "python",
   "name": "python3"
  },
  "language_info": {
   "name": "python",
   "version": "3.10.4"
  },
  "orig_nbformat": 4,
  "vscode": {
   "interpreter": {
    "hash": "369f2c481f4da34e4445cda3fffd2e751bd1c4d706f27375911949ba6bb62e1c"
   }
  }
 },
 "nbformat": 4,
 "nbformat_minor": 2
}
