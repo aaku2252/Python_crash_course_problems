{
 "cells": [
  {
   "cell_type": "code",
   "execution_count": null,
   "metadata": {},
   "outputs": [],
   "source": [
    "def subsequences(string):\n",
    "    # If the string is empty, return an empty list\n",
    "    if len(string) == 0:\n",
    "        return ['']\n",
    "    \n",
    "    # Get all the subsequences of the remaining string\n",
    "    subsequences_of_remaining_string = subsequences(string[1:])\n",
    "    \n",
    "    # Combine the subsequences obtained from both cases\n",
    "    result = []\n",
    "    for subsequence in subsequences_of_remaining_string:\n",
    "        result.append(subsequence)\n",
    "        result.append(string[0] + subsequence)\n",
    "    \n",
    "    return result\n",
    "\n",
    "string = input()\n",
    "ans = subsequences(string)\n",
    "for ele in ans:\n",
    "    print(ele)"
   ]
  }
 ],
 "metadata": {
  "language_info": {
   "name": "python"
  },
  "orig_nbformat": 4
 },
 "nbformat": 4,
 "nbformat_minor": 2
}
