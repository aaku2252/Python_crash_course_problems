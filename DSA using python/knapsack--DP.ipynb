{
 "cells": [
  {
   "cell_type": "code",
   "execution_count": null,
   "metadata": {},
   "outputs": [],
   "source": [
    "def knapsack(n, weights, values, w):\n",
    "    dp = [[0 for j in range(w+1)] for i in range(n+1)]\n",
    "    for i in range(1, n+1):\n",
    "        for j in range(1, w+1):\n",
    "            if weights[i-1] > j:\n",
    "                dp[i][j] = dp[i-1][j]\n",
    "            else:\n",
    "                dp[i][j] = max(values[i-1] + dp[i-1][j-weights[i-1]], dp[i-1][j])\n",
    "    return dp[n][w]\n",
    "\n",
    "# Taking inputs and calling the function\n",
    "n = int(input())\n",
    "weights = list(map(int, input().split()))\n",
    "values = list(map(int, input().split()))\n",
    "w = int(input())\n",
    "print(knapsack(n, weights, values, w))\n"
   ]
  }
 ],
 "metadata": {
  "language_info": {
   "name": "python"
  },
  "orig_nbformat": 4
 },
 "nbformat": 4,
 "nbformat_minor": 2
}
