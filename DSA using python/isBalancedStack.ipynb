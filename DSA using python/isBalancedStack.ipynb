{
 "cells": [
  {
   "cell_type": "code",
   "execution_count": null,
   "metadata": {},
   "outputs": [],
   "source": [
    "# For a given a string expression containing only round brackets or parentheses, check if they are balanced or not. Brackets are said to be balanced if the bracket which opens last, closes first.\n",
    "# Example:\n",
    "# Expression: (()())\n",
    "# Since all the opening brackets have their corresponding closing brackets, we say it is balanced and hence the output will be, 'true'.\n",
    "# You need to return a boolean value indicating whether the expression is balanced or not.\n",
    "# Note:\n",
    "# The input expression will not contain spaces in between.\n",
    "# Input Format:\n",
    "# The first and the only line of input contains a string expression without any spaces in between.\n",
    "#  Output Format:\n",
    "# The only line of output prints 'true' or 'false'.\n",
    "\n",
    "\n",
    "\n",
    "\n",
    "def isBalanced(expression):\n",
    "    stack = []\n",
    "    for char in expression:\n",
    "        if char == '(':\n",
    "            stack.append(char)\n",
    "        elif char == ')':\n",
    "            if not stack:\n",
    "                return False\n",
    "            if stack[-1] != '(':\n",
    "                return False\n",
    "            stack.pop()\n",
    "        elif char == '{':\n",
    "            stack.append(char)\n",
    "        elif char == '}':\n",
    "            if not stack:\n",
    "                return False\n",
    "            if stack[-1] != '{':\n",
    "                return False\n",
    "            stack.pop()\n",
    "        \n",
    "    return not stack\n",
    "\n",
    "\n",
    "isBalanced('(){}}()()')"
   ]
  }
 ],
 "metadata": {
  "kernelspec": {
   "display_name": "Python 3",
   "language": "python",
   "name": "python3"
  },
  "language_info": {
   "name": "python",
   "version": "3.10.4"
  },
  "orig_nbformat": 4,
  "vscode": {
   "interpreter": {
    "hash": "369f2c481f4da34e4445cda3fffd2e751bd1c4d706f27375911949ba6bb62e1c"
   }
  }
 },
 "nbformat": 4,
 "nbformat_minor": 2
}
